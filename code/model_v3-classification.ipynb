{
 "cells": [
  {
   "cell_type": "code",
   "execution_count": 1,
   "metadata": {
    "collapsed": true
   },
   "outputs": [],
   "source": [
    "import pandas as pd\n",
    "import numpy as np\n",
    "import matplotlib.pyplot as plt\n",
    "%matplotlib inline"
   ]
  },
  {
   "cell_type": "markdown",
   "metadata": {},
   "source": [
    "## load data"
   ]
  },
  {
   "cell_type": "markdown",
   "metadata": {},
   "source": [
    "Data sources:\n",
    "- Historical match results\n",
    "- FIFA ranking\n",
    "- GDP\n",
    "- Bookie odds\n",
    "- 2018 match"
   ]
  },
  {
   "cell_type": "code",
   "execution_count": 2,
   "metadata": {},
   "outputs": [
    {
     "data": {
      "text/plain": [
       "((39044, 9), (57793, 16), (32, 21), (220, 49), (3192, 6))"
      ]
     },
     "execution_count": 2,
     "metadata": {},
     "output_type": "execute_result"
    }
   ],
   "source": [
    "# historical match results\n",
    "matches = pd.read_csv(\"../data/results_w_2018fifa.csv\", parse_dates=['date'], dayfirst=True)\n",
    "\n",
    "# monthly ranking since Aug 1993\n",
    "rankings = pd.read_csv(\"../data/fifa_ranking.csv\", )#parse_dates=['rank_date'], dayfirst=True)\n",
    "\n",
    "# 2018 match\n",
    "matches_2018 = pd.read_csv(\"../data/matches_20180626.csv\")\n",
    "\n",
    "# GDP data\n",
    "gdp = pd.read_excel(\"../data/Download-GDPPC-USD-countries.xls\", skiprows=[0, 1])\n",
    "\n",
    "# odds data\n",
    "odds = pd.read_csv(\"../data/historical_odds.csv\", na_values='-')\n",
    "\n",
    "matches.shape, rankings.shape, matches_2018.shape, gdp.shape, odds.shape"
   ]
  },
  {
   "cell_type": "code",
   "execution_count": 3,
   "metadata": {},
   "outputs": [
    {
     "data": {
      "text/html": [
       "<div>\n",
       "<style>\n",
       "    .dataframe thead tr:only-child th {\n",
       "        text-align: right;\n",
       "    }\n",
       "\n",
       "    .dataframe thead th {\n",
       "        text-align: left;\n",
       "    }\n",
       "\n",
       "    .dataframe tbody tr th {\n",
       "        vertical-align: top;\n",
       "    }\n",
       "</style>\n",
       "<table border=\"1\" class=\"dataframe\">\n",
       "  <thead>\n",
       "    <tr style=\"text-align: right;\">\n",
       "      <th></th>\n",
       "      <th>date</th>\n",
       "      <th>home_team</th>\n",
       "      <th>away_team</th>\n",
       "      <th>home_score</th>\n",
       "      <th>away_score</th>\n",
       "      <th>tournament</th>\n",
       "      <th>city</th>\n",
       "      <th>country</th>\n",
       "      <th>neutral</th>\n",
       "    </tr>\n",
       "  </thead>\n",
       "  <tbody>\n",
       "    <tr>\n",
       "      <th>0</th>\n",
       "      <td>1872-11-30 00:00:00</td>\n",
       "      <td>Scotland</td>\n",
       "      <td>England</td>\n",
       "      <td>0</td>\n",
       "      <td>0</td>\n",
       "      <td>Friendly</td>\n",
       "      <td>Glasgow</td>\n",
       "      <td>Scotland</td>\n",
       "      <td>False</td>\n",
       "    </tr>\n",
       "    <tr>\n",
       "      <th>1</th>\n",
       "      <td>1873-03-08 00:00:00</td>\n",
       "      <td>England</td>\n",
       "      <td>Scotland</td>\n",
       "      <td>4</td>\n",
       "      <td>2</td>\n",
       "      <td>Friendly</td>\n",
       "      <td>London</td>\n",
       "      <td>England</td>\n",
       "      <td>False</td>\n",
       "    </tr>\n",
       "    <tr>\n",
       "      <th>2</th>\n",
       "      <td>1874-03-07 00:00:00</td>\n",
       "      <td>Scotland</td>\n",
       "      <td>England</td>\n",
       "      <td>2</td>\n",
       "      <td>1</td>\n",
       "      <td>Friendly</td>\n",
       "      <td>Glasgow</td>\n",
       "      <td>Scotland</td>\n",
       "      <td>False</td>\n",
       "    </tr>\n",
       "    <tr>\n",
       "      <th>3</th>\n",
       "      <td>1875-03-06 00:00:00</td>\n",
       "      <td>England</td>\n",
       "      <td>Scotland</td>\n",
       "      <td>2</td>\n",
       "      <td>2</td>\n",
       "      <td>Friendly</td>\n",
       "      <td>London</td>\n",
       "      <td>England</td>\n",
       "      <td>False</td>\n",
       "    </tr>\n",
       "    <tr>\n",
       "      <th>4</th>\n",
       "      <td>1876-03-04 00:00:00</td>\n",
       "      <td>Scotland</td>\n",
       "      <td>England</td>\n",
       "      <td>3</td>\n",
       "      <td>0</td>\n",
       "      <td>Friendly</td>\n",
       "      <td>Glasgow</td>\n",
       "      <td>Scotland</td>\n",
       "      <td>False</td>\n",
       "    </tr>\n",
       "  </tbody>\n",
       "</table>\n",
       "</div>"
      ],
      "text/plain": [
       "                 date home_team away_team  home_score  away_score tournament  \\\n",
       "0 1872-11-30 00:00:00  Scotland   England           0           0   Friendly   \n",
       "1 1873-03-08 00:00:00   England  Scotland           4           2   Friendly   \n",
       "2 1874-03-07 00:00:00  Scotland   England           2           1   Friendly   \n",
       "3 1875-03-06 00:00:00   England  Scotland           2           2   Friendly   \n",
       "4 1876-03-04 00:00:00  Scotland   England           3           0   Friendly   \n",
       "\n",
       "      city   country  neutral  \n",
       "0  Glasgow  Scotland    False  \n",
       "1   London   England    False  \n",
       "2  Glasgow  Scotland    False  \n",
       "3   London   England    False  \n",
       "4  Glasgow  Scotland    False  "
      ]
     },
     "execution_count": 3,
     "metadata": {},
     "output_type": "execute_result"
    }
   ],
   "source": [
    "matches.head()"
   ]
  },
  {
   "cell_type": "code",
   "execution_count": 4,
   "metadata": {},
   "outputs": [
    {
     "name": "stdout",
     "output_type": "stream",
     "text": [
      "(241, 216, 32)\n"
     ]
    },
    {
     "data": {
      "text/plain": [
       "{'Bosnia and Herzegovina',\n",
       " 'Brunei Darussalam',\n",
       " 'Cape Verde Islands',\n",
       " 'China PR',\n",
       " 'Chinese Taipei',\n",
       " \"C\\xc3\\xb4te d'Ivoire\",\n",
       " 'FYR Macedonia',\n",
       " 'IR Iran',\n",
       " 'Kyrgyz Republic',\n",
       " 'Myanmar',\n",
       " 'Netherlands Antilles',\n",
       " 'RCS',\n",
       " 'Republic of Ireland',\n",
       " 'Serbia and Montenegro',\n",
       " 'St Kitts and Nevis',\n",
       " 'St Lucia',\n",
       " 'St Vincent and the Grenadines',\n",
       " 'S\\xc3\\xa3o Tom\\xc3\\xa9 e Pr\\xc3\\xadncipe',\n",
       " 'Timor-Leste',\n",
       " 'US Virgin Islands',\n",
       " 'Zaire'}"
      ]
     },
     "execution_count": 4,
     "metadata": {},
     "output_type": "execute_result"
    }
   ],
   "source": [
    "# some cleaning needs to be done: some country names in different files are differnt\n",
    "print(matches.home_team.nunique(), rankings.country_full.nunique(), matches_2018.Team.nunique())\n",
    "set(rankings.country_full) - set(matches.home_team) "
   ]
  },
  {
   "cell_type": "code",
   "execution_count": 5,
   "metadata": {
    "collapsed": true
   },
   "outputs": [],
   "source": [
    "# clean up data\n",
    "rankings = rankings.replace({'IR Iran': 'Iran', \n",
    "                             'China PR': 'China'})\n",
    "matches_2018.dropna(how='all', inplace=True)\n",
    "matches_2018 = matches_2018.replace({'Columbia': 'Colombia',\n",
    "                                     'Costarica': 'Costa Rica',\n",
    "                                     'IRAN': 'Iran',\n",
    "                                     'Porugal': 'Portugal',\n",
    "                                     'Korea': 'Korea Republic'})"
   ]
  },
  {
   "cell_type": "code",
   "execution_count": 6,
   "metadata": {},
   "outputs": [
    {
     "name": "stdout",
     "output_type": "stream",
     "text": [
      "set([])\n",
      "set([])\n"
     ]
    }
   ],
   "source": [
    "print(set(matches_2018.Team) - set(matches.home_team) )\n",
    "print(set(matches_2018.Team) - set(rankings.country_full))"
   ]
  },
  {
   "cell_type": "code",
   "execution_count": 7,
   "metadata": {
    "collapsed": true
   },
   "outputs": [],
   "source": [
    "gdp = gdp.replace({'Russian Federation': 'Russia',\n",
    "                   'United Kingdom': 'England',\n",
    "                   'Congo': 'Congo DR',\n",
    "                   'Republic of Korea': 'Korea Republic',\n",
    "                   'Republic of Moldova': 'Moldova',\n",
    "                   'Iran (Islamic Republic of)': 'Iran'})\n",
    "\n",
    "gdp = gdp.drop('CountryID', axis=1).set_index('Country').stack()\n",
    "\n",
    "gdp = gdp.reset_index().rename(columns={'level_1': 'year', 0: 'gdppc'})\n",
    "\n",
    "odds = odds.replace({'South Korea': 'Korea Republic'})"
   ]
  },
  {
   "cell_type": "code",
   "execution_count": 8,
   "metadata": {
    "collapsed": true
   },
   "outputs": [],
   "source": [
    "matches_2018.set_index('Team', inplace=True)"
   ]
  },
  {
   "cell_type": "code",
   "execution_count": 9,
   "metadata": {},
   "outputs": [
    {
     "data": {
      "text/html": [
       "<div>\n",
       "<style>\n",
       "    .dataframe thead tr:only-child th {\n",
       "        text-align: right;\n",
       "    }\n",
       "\n",
       "    .dataframe thead th {\n",
       "        text-align: left;\n",
       "    }\n",
       "\n",
       "    .dataframe tbody tr th {\n",
       "        vertical-align: top;\n",
       "    }\n",
       "</style>\n",
       "<table border=\"1\" class=\"dataframe\">\n",
       "  <thead>\n",
       "    <tr style=\"text-align: right;\">\n",
       "      <th></th>\n",
       "      <th>Group</th>\n",
       "      <th>Previous \n",
       "appearances</th>\n",
       "      <th>Previous \n",
       "titles</th>\n",
       "      <th>Previous\n",
       " finals</th>\n",
       "      <th>Previous\n",
       " semifinals</th>\n",
       "      <th>Current \n",
       "FIFA rank</th>\n",
       "      <th>First match \n",
       "against</th>\n",
       "      <th>Match index</th>\n",
       "      <th>history with \n",
       "first opponent\n",
       " W-L</th>\n",
       "      <th>history with\n",
       " first opponent\n",
       " goals</th>\n",
       "      <th>Second match\n",
       " against</th>\n",
       "      <th>Match index.1</th>\n",
       "      <th>history with\n",
       " second opponent\n",
       " W-L</th>\n",
       "      <th>history with\n",
       " second opponent\n",
       " goals</th>\n",
       "      <th>Third match\n",
       " against</th>\n",
       "      <th>Match index.2</th>\n",
       "      <th>history with\n",
       " third opponent\n",
       " W-L</th>\n",
       "      <th>history with\n",
       " third opponent\n",
       " goals</th>\n",
       "      <th>points</th>\n",
       "      <th>GD</th>\n",
       "    </tr>\n",
       "    <tr>\n",
       "      <th>Team</th>\n",
       "      <th></th>\n",
       "      <th></th>\n",
       "      <th></th>\n",
       "      <th></th>\n",
       "      <th></th>\n",
       "      <th></th>\n",
       "      <th></th>\n",
       "      <th></th>\n",
       "      <th></th>\n",
       "      <th></th>\n",
       "      <th></th>\n",
       "      <th></th>\n",
       "      <th></th>\n",
       "      <th></th>\n",
       "      <th></th>\n",
       "      <th></th>\n",
       "      <th></th>\n",
       "      <th></th>\n",
       "      <th></th>\n",
       "      <th></th>\n",
       "    </tr>\n",
       "  </thead>\n",
       "  <tbody>\n",
       "    <tr>\n",
       "      <th>Russia</th>\n",
       "      <td>A</td>\n",
       "      <td>10</td>\n",
       "      <td>0</td>\n",
       "      <td>0</td>\n",
       "      <td>1</td>\n",
       "      <td>65</td>\n",
       "      <td>Saudi Arabia</td>\n",
       "      <td>1</td>\n",
       "      <td>-1.0</td>\n",
       "      <td>-2.0</td>\n",
       "      <td>Egypt</td>\n",
       "      <td>17</td>\n",
       "      <td>NaN</td>\n",
       "      <td>NaN</td>\n",
       "      <td>Uruguay</td>\n",
       "      <td>33</td>\n",
       "      <td>0.0</td>\n",
       "      <td>0.0</td>\n",
       "      <td>6</td>\n",
       "      <td>4</td>\n",
       "    </tr>\n",
       "    <tr>\n",
       "      <th>Saudi Arabia</th>\n",
       "      <td>A</td>\n",
       "      <td>4</td>\n",
       "      <td>0</td>\n",
       "      <td>0</td>\n",
       "      <td>0</td>\n",
       "      <td>63</td>\n",
       "      <td>Russia</td>\n",
       "      <td>1</td>\n",
       "      <td>1.0</td>\n",
       "      <td>2.0</td>\n",
       "      <td>Uruguay</td>\n",
       "      <td>18</td>\n",
       "      <td>1.0</td>\n",
       "      <td>1.0</td>\n",
       "      <td>Egypt</td>\n",
       "      <td>34</td>\n",
       "      <td>-5.0</td>\n",
       "      <td>-5.0</td>\n",
       "      <td>3</td>\n",
       "      <td>-5</td>\n",
       "    </tr>\n",
       "    <tr>\n",
       "      <th>Egypt</th>\n",
       "      <td>A</td>\n",
       "      <td>2</td>\n",
       "      <td>0</td>\n",
       "      <td>0</td>\n",
       "      <td>0</td>\n",
       "      <td>31</td>\n",
       "      <td>Uruguay</td>\n",
       "      <td>2</td>\n",
       "      <td>-1.0</td>\n",
       "      <td>-2.0</td>\n",
       "      <td>Russia</td>\n",
       "      <td>17</td>\n",
       "      <td>NaN</td>\n",
       "      <td>NaN</td>\n",
       "      <td>Saudi Arabia</td>\n",
       "      <td>34</td>\n",
       "      <td>5.0</td>\n",
       "      <td>5.0</td>\n",
       "      <td>0</td>\n",
       "      <td>-4</td>\n",
       "    </tr>\n",
       "    <tr>\n",
       "      <th>Uruguay</th>\n",
       "      <td>A</td>\n",
       "      <td>12</td>\n",
       "      <td>2</td>\n",
       "      <td>2</td>\n",
       "      <td>5</td>\n",
       "      <td>21</td>\n",
       "      <td>Egypt</td>\n",
       "      <td>2</td>\n",
       "      <td>1.0</td>\n",
       "      <td>2.0</td>\n",
       "      <td>Saudi Arabia</td>\n",
       "      <td>18</td>\n",
       "      <td>-1.0</td>\n",
       "      <td>-1.0</td>\n",
       "      <td>Russia</td>\n",
       "      <td>33</td>\n",
       "      <td>0.0</td>\n",
       "      <td>0.0</td>\n",
       "      <td>9</td>\n",
       "      <td>5</td>\n",
       "    </tr>\n",
       "    <tr>\n",
       "      <th>Portugal</th>\n",
       "      <td>B</td>\n",
       "      <td>6</td>\n",
       "      <td>0</td>\n",
       "      <td>0</td>\n",
       "      <td>2</td>\n",
       "      <td>3</td>\n",
       "      <td>Spain</td>\n",
       "      <td>3</td>\n",
       "      <td>-12.0</td>\n",
       "      <td>-31.0</td>\n",
       "      <td>Morocco</td>\n",
       "      <td>19</td>\n",
       "      <td>-1.0</td>\n",
       "      <td>-2.0</td>\n",
       "      <td>Iran</td>\n",
       "      <td>35</td>\n",
       "      <td>2.0</td>\n",
       "      <td>5.0</td>\n",
       "      <td>5</td>\n",
       "      <td>1</td>\n",
       "    </tr>\n",
       "  </tbody>\n",
       "</table>\n",
       "</div>"
      ],
      "text/plain": [
       "             Group  Previous \\nappearances  Previous \\ntitles  \\\n",
       "Team                                                            \n",
       "Russia           A                      10                  0   \n",
       "Saudi Arabia     A                       4                  0   \n",
       "Egypt            A                       2                  0   \n",
       "Uruguay          A                      12                  2   \n",
       "Portugal         B                       6                  0   \n",
       "\n",
       "              Previous\\n finals  Previous\\n semifinals  Current \\nFIFA rank  \\\n",
       "Team                                                                          \n",
       "Russia                        0                      1                   65   \n",
       "Saudi Arabia                  0                      0                   63   \n",
       "Egypt                         0                      0                   31   \n",
       "Uruguay                       2                      5                   21   \n",
       "Portugal                      0                      2                    3   \n",
       "\n",
       "             First match \\nagainst  Match index  \\\n",
       "Team                                              \n",
       "Russia                Saudi Arabia            1   \n",
       "Saudi Arabia                Russia            1   \n",
       "Egypt                      Uruguay            2   \n",
       "Uruguay                      Egypt            2   \n",
       "Portugal                     Spain            3   \n",
       "\n",
       "              history with \\nfirst opponent\\n W-L  \\\n",
       "Team                                                \n",
       "Russia                                       -1.0   \n",
       "Saudi Arabia                                  1.0   \n",
       "Egypt                                        -1.0   \n",
       "Uruguay                                       1.0   \n",
       "Portugal                                    -12.0   \n",
       "\n",
       "              history with\\n first opponent\\n goals Second match\\n against  \\\n",
       "Team                                                                         \n",
       "Russia                                         -2.0                  Egypt   \n",
       "Saudi Arabia                                    2.0                Uruguay   \n",
       "Egypt                                          -2.0                 Russia   \n",
       "Uruguay                                         2.0           Saudi Arabia   \n",
       "Portugal                                      -31.0                Morocco   \n",
       "\n",
       "              Match index.1  history with\\n second opponent\\n W-L  \\\n",
       "Team                                                                \n",
       "Russia                   17                                   NaN   \n",
       "Saudi Arabia             18                                   1.0   \n",
       "Egypt                    17                                   NaN   \n",
       "Uruguay                  18                                  -1.0   \n",
       "Portugal                 19                                  -1.0   \n",
       "\n",
       "              history with\\n second opponent\\n goals Third match\\n against  \\\n",
       "Team                                                                         \n",
       "Russia                                           NaN               Uruguay   \n",
       "Saudi Arabia                                     1.0                 Egypt   \n",
       "Egypt                                            NaN          Saudi Arabia   \n",
       "Uruguay                                         -1.0                Russia   \n",
       "Portugal                                        -2.0                  Iran   \n",
       "\n",
       "              Match index.2  history with\\n third opponent\\n W-L  \\\n",
       "Team                                                               \n",
       "Russia                   33                                  0.0   \n",
       "Saudi Arabia             34                                 -5.0   \n",
       "Egypt                    34                                  5.0   \n",
       "Uruguay                  33                                  0.0   \n",
       "Portugal                 35                                  2.0   \n",
       "\n",
       "              history with\\n third opponent\\n goals  points  GD  \n",
       "Team                                                             \n",
       "Russia                                          0.0       6   4  \n",
       "Saudi Arabia                                   -5.0       3  -5  \n",
       "Egypt                                           5.0       0  -4  \n",
       "Uruguay                                         0.0       9   5  \n",
       "Portugal                                        5.0       5   1  "
      ]
     },
     "execution_count": 9,
     "metadata": {},
     "output_type": "execute_result"
    }
   ],
   "source": [
    "matches_2018.head()"
   ]
  },
  {
   "cell_type": "markdown",
   "metadata": {},
   "source": [
    "## Feature engineering\n",
    "- Team level features:\n",
    "    - weighted avg ranking in past x years \n",
    "    - home advantage - host or not\n",
    "    - home advantage - same continent as hosting country or not\n",
    "    - confederation\n",
    "    - history with the opponent\n",
    "    - Outcome of previous 3 matches\n",
    "    - GDP per capita"
   ]
  },
  {
   "cell_type": "markdown",
   "metadata": {},
   "source": [
    "### create outcome variable: \n",
    "- 1: home team won \n",
    "- 0: draw \n",
    "- -1: away team won"
   ]
  },
  {
   "cell_type": "code",
   "execution_count": 10,
   "metadata": {
    "collapsed": true
   },
   "outputs": [],
   "source": [
    "matches['result'] = matches.home_score - matches.away_score\n",
    "matches.result = matches.result.clip(upper=1, lower=-1)"
   ]
  },
  {
   "cell_type": "code",
   "execution_count": 11,
   "metadata": {},
   "outputs": [
    {
     "data": {
      "text/plain": [
       " 1    18986\n",
       "-1    11003\n",
       " 0     9055\n",
       "Name: result, dtype: int64"
      ]
     },
     "execution_count": 11,
     "metadata": {},
     "output_type": "execute_result"
    }
   ],
   "source": [
    "matches.result.value_counts()"
   ]
  },
  {
   "cell_type": "markdown",
   "metadata": {},
   "source": [
    "### features from historical matches"
   ]
  },
  {
   "cell_type": "code",
   "execution_count": 12,
   "metadata": {
    "collapsed": true
   },
   "outputs": [],
   "source": [
    "# remove friendly matches and use only data starting from 1996\n",
    "matches = matches.set_index('date')\n",
    "# matches.index = pd.to_datetime(matches.index)\n",
    "matches = matches[matches.tournament != 'Friendly']\n",
    "matches = matches['1996':]"
   ]
  },
  {
   "cell_type": "code",
   "execution_count": 13,
   "metadata": {},
   "outputs": [
    {
     "data": {
      "text/plain": [
       "(12450, 9)"
      ]
     },
     "execution_count": 13,
     "metadata": {},
     "output_type": "execute_result"
    }
   ],
   "source": [
    "matches.shape"
   ]
  },
  {
   "cell_type": "code",
   "execution_count": 14,
   "metadata": {},
   "outputs": [
    {
     "data": {
      "text/html": [
       "<div>\n",
       "<style>\n",
       "    .dataframe thead tr:only-child th {\n",
       "        text-align: right;\n",
       "    }\n",
       "\n",
       "    .dataframe thead th {\n",
       "        text-align: left;\n",
       "    }\n",
       "\n",
       "    .dataframe tbody tr th {\n",
       "        vertical-align: top;\n",
       "    }\n",
       "</style>\n",
       "<table border=\"1\" class=\"dataframe\">\n",
       "  <thead>\n",
       "    <tr style=\"text-align: right;\">\n",
       "      <th></th>\n",
       "      <th>home_team</th>\n",
       "      <th>away_team</th>\n",
       "      <th>home_score</th>\n",
       "      <th>away_score</th>\n",
       "      <th>tournament</th>\n",
       "      <th>city</th>\n",
       "      <th>country</th>\n",
       "      <th>neutral</th>\n",
       "      <th>result</th>\n",
       "    </tr>\n",
       "    <tr>\n",
       "      <th>date</th>\n",
       "      <th></th>\n",
       "      <th></th>\n",
       "      <th></th>\n",
       "      <th></th>\n",
       "      <th></th>\n",
       "      <th></th>\n",
       "      <th></th>\n",
       "      <th></th>\n",
       "      <th></th>\n",
       "    </tr>\n",
       "  </thead>\n",
       "  <tbody>\n",
       "    <tr>\n",
       "      <th>1996-01-10</th>\n",
       "      <td>Canada</td>\n",
       "      <td>Honduras</td>\n",
       "      <td>3</td>\n",
       "      <td>1</td>\n",
       "      <td>Gold Cup</td>\n",
       "      <td>Anaheim</td>\n",
       "      <td>USA</td>\n",
       "      <td>True</td>\n",
       "      <td>1</td>\n",
       "    </tr>\n",
       "    <tr>\n",
       "      <th>1996-01-10</th>\n",
       "      <td>Trinidad and Tobago</td>\n",
       "      <td>El Salvador</td>\n",
       "      <td>2</td>\n",
       "      <td>3</td>\n",
       "      <td>Gold Cup</td>\n",
       "      <td>Anaheim</td>\n",
       "      <td>USA</td>\n",
       "      <td>True</td>\n",
       "      <td>-1</td>\n",
       "    </tr>\n",
       "    <tr>\n",
       "      <th>1996-01-11</th>\n",
       "      <td>Mexico</td>\n",
       "      <td>St. Vincent and the Grenadines</td>\n",
       "      <td>5</td>\n",
       "      <td>0</td>\n",
       "      <td>Gold Cup</td>\n",
       "      <td>San Diego</td>\n",
       "      <td>USA</td>\n",
       "      <td>True</td>\n",
       "      <td>1</td>\n",
       "    </tr>\n",
       "    <tr>\n",
       "      <th>1996-01-12</th>\n",
       "      <td>Brazil</td>\n",
       "      <td>Canada</td>\n",
       "      <td>4</td>\n",
       "      <td>1</td>\n",
       "      <td>Gold Cup</td>\n",
       "      <td>Los Angeles</td>\n",
       "      <td>USA</td>\n",
       "      <td>True</td>\n",
       "      <td>1</td>\n",
       "    </tr>\n",
       "    <tr>\n",
       "      <th>1996-01-13</th>\n",
       "      <td>South Africa</td>\n",
       "      <td>Cameroon</td>\n",
       "      <td>3</td>\n",
       "      <td>0</td>\n",
       "      <td>African Cup of Nations</td>\n",
       "      <td>Johannesburg</td>\n",
       "      <td>South Africa</td>\n",
       "      <td>False</td>\n",
       "      <td>1</td>\n",
       "    </tr>\n",
       "  </tbody>\n",
       "</table>\n",
       "</div>"
      ],
      "text/plain": [
       "                      home_team                       away_team  home_score  \\\n",
       "date                                                                          \n",
       "1996-01-10               Canada                        Honduras           3   \n",
       "1996-01-10  Trinidad and Tobago                     El Salvador           2   \n",
       "1996-01-11               Mexico  St. Vincent and the Grenadines           5   \n",
       "1996-01-12               Brazil                          Canada           4   \n",
       "1996-01-13         South Africa                        Cameroon           3   \n",
       "\n",
       "            away_score              tournament          city       country  \\\n",
       "date                                                                         \n",
       "1996-01-10           1                Gold Cup       Anaheim           USA   \n",
       "1996-01-10           3                Gold Cup       Anaheim           USA   \n",
       "1996-01-11           0                Gold Cup     San Diego           USA   \n",
       "1996-01-12           1                Gold Cup   Los Angeles           USA   \n",
       "1996-01-13           0  African Cup of Nations  Johannesburg  South Africa   \n",
       "\n",
       "            neutral  result  \n",
       "date                         \n",
       "1996-01-10     True       1  \n",
       "1996-01-10     True      -1  \n",
       "1996-01-11     True       1  \n",
       "1996-01-12     True       1  \n",
       "1996-01-13    False       1  "
      ]
     },
     "execution_count": 14,
     "metadata": {},
     "output_type": "execute_result"
    }
   ],
   "source": [
    "matches.head()"
   ]
  },
  {
   "cell_type": "markdown",
   "metadata": {},
   "source": [
    "#### home advantage"
   ]
  },
  {
   "cell_type": "code",
   "execution_count": 15,
   "metadata": {
    "collapsed": true
   },
   "outputs": [],
   "source": [
    "matches['home_advantage'] = matches.country == matches.home_team"
   ]
  },
  {
   "cell_type": "markdown",
   "metadata": {},
   "source": [
    "#### historical records with this opponent\n",
    "for each home-away pair, calculate the win/draw count and rate    \n",
    "All historical data is used. Time is not considered here. __NOTE:__ This introduces data leakage because stats are calculated using all data.. should fix later if have time"
   ]
  },
  {
   "cell_type": "code",
   "execution_count": 16,
   "metadata": {},
   "outputs": [
    {
     "data": {
      "text/html": [
       "<div>\n",
       "<style>\n",
       "    .dataframe thead tr:only-child th {\n",
       "        text-align: right;\n",
       "    }\n",
       "\n",
       "    .dataframe thead th {\n",
       "        text-align: left;\n",
       "    }\n",
       "\n",
       "    .dataframe tbody tr th {\n",
       "        vertical-align: top;\n",
       "    }\n",
       "</style>\n",
       "<table border=\"1\" class=\"dataframe\">\n",
       "  <thead>\n",
       "    <tr style=\"text-align: right;\">\n",
       "      <th></th>\n",
       "      <th>home_team</th>\n",
       "      <th>away_team</th>\n",
       "      <th>total_away_score</th>\n",
       "      <th>total_home_score</th>\n",
       "      <th>total_count</th>\n",
       "      <th>home_win_count</th>\n",
       "      <th>home_draw_count</th>\n",
       "    </tr>\n",
       "  </thead>\n",
       "  <tbody>\n",
       "    <tr>\n",
       "      <th>0</th>\n",
       "      <td>Afghanistan</td>\n",
       "      <td>Bangladesh</td>\n",
       "      <td>0</td>\n",
       "      <td>4</td>\n",
       "      <td>1</td>\n",
       "      <td>1</td>\n",
       "      <td>0</td>\n",
       "    </tr>\n",
       "    <tr>\n",
       "      <th>1</th>\n",
       "      <td>Afghanistan</td>\n",
       "      <td>Bhutan</td>\n",
       "      <td>3</td>\n",
       "      <td>6</td>\n",
       "      <td>3</td>\n",
       "      <td>2</td>\n",
       "      <td>0</td>\n",
       "    </tr>\n",
       "    <tr>\n",
       "      <th>2</th>\n",
       "      <td>Afghanistan</td>\n",
       "      <td>Cambodia</td>\n",
       "      <td>1</td>\n",
       "      <td>5</td>\n",
       "      <td>2</td>\n",
       "      <td>2</td>\n",
       "      <td>0</td>\n",
       "    </tr>\n",
       "    <tr>\n",
       "      <th>3</th>\n",
       "      <td>Afghanistan</td>\n",
       "      <td>India</td>\n",
       "      <td>4</td>\n",
       "      <td>0</td>\n",
       "      <td>1</td>\n",
       "      <td>0</td>\n",
       "      <td>0</td>\n",
       "    </tr>\n",
       "    <tr>\n",
       "      <th>4</th>\n",
       "      <td>Afghanistan</td>\n",
       "      <td>Japan</td>\n",
       "      <td>6</td>\n",
       "      <td>0</td>\n",
       "      <td>1</td>\n",
       "      <td>0</td>\n",
       "      <td>0</td>\n",
       "    </tr>\n",
       "  </tbody>\n",
       "</table>\n",
       "</div>"
      ],
      "text/plain": [
       "     home_team   away_team  total_away_score  total_home_score  total_count  \\\n",
       "0  Afghanistan  Bangladesh                 0                 4            1   \n",
       "1  Afghanistan      Bhutan                 3                 6            3   \n",
       "2  Afghanistan    Cambodia                 1                 5            2   \n",
       "3  Afghanistan       India                 4                 0            1   \n",
       "4  Afghanistan       Japan                 6                 0            1   \n",
       "\n",
       "   home_win_count  home_draw_count  \n",
       "0               1                0  \n",
       "1               2                0  \n",
       "2               2                0  \n",
       "3               0                0  \n",
       "4               0                0  "
      ]
     },
     "execution_count": 16,
     "metadata": {},
     "output_type": "execute_result"
    }
   ],
   "source": [
    "def get_win_count(x): \n",
    "    return (x==1).sum()\n",
    "\n",
    "def get_draw_count(x): \n",
    "    return (x==0).sum()\n",
    "\n",
    "historical_stats_w_oppo = matches.groupby(['home_team', 'away_team']).agg({'home_score': 'sum', 'away_score': 'sum', \n",
    "                                                 'result': ['count', get_win_count, get_draw_count]}).reset_index()\n",
    "historical_stats_w_oppo.columns = ['home_team', 'away_team', 'total_away_score', 'total_home_score', \n",
    "                                   'total_count', 'home_win_count', 'home_draw_count']\n",
    "\n",
    "# historical_stats_w_oppo.columns = ['_'.join(c) for c in historical_stats_w_oppo.columns]\n",
    "\n",
    "historical_stats_w_oppo.head()"
   ]
  },
  {
   "cell_type": "code",
   "execution_count": 17,
   "metadata": {
    "collapsed": true
   },
   "outputs": [],
   "source": [
    "# matches[(matches.home_team == 'Australia') & (matches.away_team == 'France')]"
   ]
  },
  {
   "cell_type": "code",
   "execution_count": 18,
   "metadata": {},
   "outputs": [
    {
     "data": {
      "text/html": [
       "<div>\n",
       "<style>\n",
       "    .dataframe thead tr:only-child th {\n",
       "        text-align: right;\n",
       "    }\n",
       "\n",
       "    .dataframe thead th {\n",
       "        text-align: left;\n",
       "    }\n",
       "\n",
       "    .dataframe tbody tr th {\n",
       "        vertical-align: top;\n",
       "    }\n",
       "</style>\n",
       "<table border=\"1\" class=\"dataframe\">\n",
       "  <thead>\n",
       "    <tr style=\"text-align: right;\">\n",
       "      <th></th>\n",
       "      <th>home_team</th>\n",
       "      <th>away_team</th>\n",
       "      <th>total_away_score</th>\n",
       "      <th>total_home_score</th>\n",
       "      <th>total_count</th>\n",
       "      <th>home_win_count</th>\n",
       "      <th>home_draw_count</th>\n",
       "    </tr>\n",
       "  </thead>\n",
       "  <tbody>\n",
       "    <tr>\n",
       "      <th>281</th>\n",
       "      <td>Australia</td>\n",
       "      <td>France</td>\n",
       "      <td>0</td>\n",
       "      <td>1</td>\n",
       "      <td>1</td>\n",
       "      <td>1</td>\n",
       "      <td>0</td>\n",
       "    </tr>\n",
       "  </tbody>\n",
       "</table>\n",
       "</div>"
      ],
      "text/plain": [
       "     home_team away_team  total_away_score  total_home_score  total_count  \\\n",
       "281  Australia    France                 0                 1            1   \n",
       "\n",
       "     home_win_count  home_draw_count  \n",
       "281               1                0  "
      ]
     },
     "execution_count": 18,
     "metadata": {},
     "output_type": "execute_result"
    }
   ],
   "source": [
    "historical_stats_w_oppo[(historical_stats_w_oppo.home_team == 'Australia') & (historical_stats_w_oppo.away_team == 'France')]"
   ]
  },
  {
   "cell_type": "code",
   "execution_count": 19,
   "metadata": {
    "collapsed": true
   },
   "outputs": [],
   "source": [
    "hist_stats_w_oppo_agg = historical_stats_w_oppo.copy()\n",
    "\n",
    "# flip home team, away team so that they are in alphabetical order \n",
    "for i in hist_stats_w_oppo_agg.index:\n",
    "    if hist_stats_w_oppo_agg.loc[i, 'home_team'] < hist_stats_w_oppo_agg.loc[i, 'away_team']: \n",
    "        hist_stats_w_oppo_agg.loc[i, 'home_team'], hist_stats_w_oppo_agg.loc[i, 'away_team'] = hist_stats_w_oppo_agg.loc[i, 'away_team'], hist_stats_w_oppo_agg.loc[i, 'home_team']\n",
    "        hist_stats_w_oppo_agg.loc[i, 'total_home_score'], hist_stats_w_oppo_agg.loc[i, 'total_away_score'] = hist_stats_w_oppo_agg.loc[i, 'total_away_score'], hist_stats_w_oppo_agg.loc[i, 'total_home_score']\n",
    "        hist_stats_w_oppo_agg.loc[i, 'home_win_count'] = hist_stats_w_oppo_agg.loc[i, 'total_count'] \\\n",
    "                - hist_stats_w_oppo_agg.loc[i, 'home_win_count'] - hist_stats_w_oppo_agg.loc[i, 'home_draw_count']\n",
    "\n",
    "# then consolidate same home/away pairs\n",
    "hist_stats_w_oppo_agg = hist_stats_w_oppo_agg.groupby(['home_team', 'away_team']).sum().reset_index()"
   ]
  },
  {
   "cell_type": "code",
   "execution_count": 20,
   "metadata": {
    "collapsed": true
   },
   "outputs": [],
   "source": [
    "# hist_stats_w_oppo_agg[(hist_stats_w_oppo_agg.home_team == 'France') & (hist_stats_w_oppo_agg.away_team == 'Australia')]"
   ]
  },
  {
   "cell_type": "code",
   "execution_count": 21,
   "metadata": {
    "collapsed": true
   },
   "outputs": [],
   "source": [
    "# hist_stats_w_oppo_agg[(hist_stats_w_oppo_agg.home_team == 'Australia') & (hist_stats_w_oppo_agg.away_team == 'France')]"
   ]
  },
  {
   "cell_type": "code",
   "execution_count": 22,
   "metadata": {
    "collapsed": true
   },
   "outputs": [],
   "source": [
    "# now duplicate and flip home away for easier joining later\n",
    "hist_stats_w_oppo_agg2 = hist_stats_w_oppo_agg.copy()\n",
    "hist_stats_w_oppo_agg2.columns = ['away_team', 'home_team', 'total_home_score', 'total_away_score', \n",
    "                                  'total_count', 'home_win_count', 'home_draw_count']\n",
    "hist_stats_w_oppo_agg2.home_win_count = hist_stats_w_oppo_agg2.total_count - hist_stats_w_oppo_agg2.home_draw_count\\\n",
    "                                        - hist_stats_w_oppo_agg2.home_win_count\n",
    "\n",
    "hist_stats_w_oppo_agg = pd.concat([hist_stats_w_oppo_agg, hist_stats_w_oppo_agg2], axis=0)\n",
    "\n",
    "hist_stats_w_oppo_agg['home_win_rate'] = hist_stats_w_oppo_agg.home_win_count * 1.0 / hist_stats_w_oppo_agg.total_count\n",
    "hist_stats_w_oppo_agg['home_draw_rate'] = hist_stats_w_oppo_agg.home_draw_count * 1.0 / hist_stats_w_oppo_agg.total_count"
   ]
  },
  {
   "cell_type": "code",
   "execution_count": 23,
   "metadata": {
    "collapsed": true
   },
   "outputs": [],
   "source": [
    "hist_stats_w_oppo_agg['total_score_diff'] = hist_stats_w_oppo_agg.total_home_score - hist_stats_w_oppo_agg.total_away_score"
   ]
  },
  {
   "cell_type": "code",
   "execution_count": 24,
   "metadata": {},
   "outputs": [
    {
     "data": {
      "text/html": [
       "<div>\n",
       "<style>\n",
       "    .dataframe thead tr:only-child th {\n",
       "        text-align: right;\n",
       "    }\n",
       "\n",
       "    .dataframe thead th {\n",
       "        text-align: left;\n",
       "    }\n",
       "\n",
       "    .dataframe tbody tr th {\n",
       "        vertical-align: top;\n",
       "    }\n",
       "</style>\n",
       "<table border=\"1\" class=\"dataframe\">\n",
       "  <thead>\n",
       "    <tr style=\"text-align: right;\">\n",
       "      <th></th>\n",
       "      <th>away_team</th>\n",
       "      <th>home_draw_count</th>\n",
       "      <th>home_team</th>\n",
       "      <th>home_win_count</th>\n",
       "      <th>total_away_score</th>\n",
       "      <th>total_count</th>\n",
       "      <th>total_home_score</th>\n",
       "      <th>home_win_rate</th>\n",
       "      <th>home_draw_rate</th>\n",
       "      <th>total_score_diff</th>\n",
       "    </tr>\n",
       "  </thead>\n",
       "  <tbody>\n",
       "    <tr>\n",
       "      <th>0</th>\n",
       "      <td>Albania</td>\n",
       "      <td>0</td>\n",
       "      <td>Andorra</td>\n",
       "      <td>0</td>\n",
       "      <td>3</td>\n",
       "      <td>1</td>\n",
       "      <td>0</td>\n",
       "      <td>0.00</td>\n",
       "      <td>0.00</td>\n",
       "      <td>-3</td>\n",
       "    </tr>\n",
       "    <tr>\n",
       "      <th>1</th>\n",
       "      <td>Algeria</td>\n",
       "      <td>3</td>\n",
       "      <td>Angola</td>\n",
       "      <td>1</td>\n",
       "      <td>6</td>\n",
       "      <td>5</td>\n",
       "      <td>6</td>\n",
       "      <td>0.20</td>\n",
       "      <td>0.60</td>\n",
       "      <td>0</td>\n",
       "    </tr>\n",
       "    <tr>\n",
       "      <th>2</th>\n",
       "      <td>Anguilla</td>\n",
       "      <td>0</td>\n",
       "      <td>Antigua and Barbuda</td>\n",
       "      <td>1</td>\n",
       "      <td>3</td>\n",
       "      <td>1</td>\n",
       "      <td>5</td>\n",
       "      <td>1.00</td>\n",
       "      <td>0.00</td>\n",
       "      <td>2</td>\n",
       "    </tr>\n",
       "    <tr>\n",
       "      <th>3</th>\n",
       "      <td>Albania</td>\n",
       "      <td>1</td>\n",
       "      <td>Armenia</td>\n",
       "      <td>1</td>\n",
       "      <td>6</td>\n",
       "      <td>4</td>\n",
       "      <td>5</td>\n",
       "      <td>0.25</td>\n",
       "      <td>0.25</td>\n",
       "      <td>-1</td>\n",
       "    </tr>\n",
       "    <tr>\n",
       "      <th>4</th>\n",
       "      <td>Andorra</td>\n",
       "      <td>0</td>\n",
       "      <td>Armenia</td>\n",
       "      <td>6</td>\n",
       "      <td>2</td>\n",
       "      <td>6</td>\n",
       "      <td>18</td>\n",
       "      <td>1.00</td>\n",
       "      <td>0.00</td>\n",
       "      <td>16</td>\n",
       "    </tr>\n",
       "  </tbody>\n",
       "</table>\n",
       "</div>"
      ],
      "text/plain": [
       "  away_team  home_draw_count            home_team  home_win_count  \\\n",
       "0   Albania                0              Andorra               0   \n",
       "1   Algeria                3               Angola               1   \n",
       "2  Anguilla                0  Antigua and Barbuda               1   \n",
       "3   Albania                1              Armenia               1   \n",
       "4   Andorra                0              Armenia               6   \n",
       "\n",
       "   total_away_score  total_count  total_home_score  home_win_rate  \\\n",
       "0                 3            1                 0           0.00   \n",
       "1                 6            5                 6           0.20   \n",
       "2                 3            1                 5           1.00   \n",
       "3                 6            4                 5           0.25   \n",
       "4                 2            6                18           1.00   \n",
       "\n",
       "   home_draw_rate  total_score_diff  \n",
       "0            0.00                -3  \n",
       "1            0.60                 0  \n",
       "2            0.00                 2  \n",
       "3            0.25                -1  \n",
       "4            0.00                16  "
      ]
     },
     "execution_count": 24,
     "metadata": {},
     "output_type": "execute_result"
    }
   ],
   "source": [
    "hist_stats_w_oppo_agg.head()"
   ]
  },
  {
   "cell_type": "code",
   "execution_count": 25,
   "metadata": {
    "collapsed": true
   },
   "outputs": [],
   "source": [
    "X = pd.merge(matches, hist_stats_w_oppo_agg, on=['home_team', 'away_team'], how='left')"
   ]
  },
  {
   "cell_type": "markdown",
   "metadata": {},
   "source": [
    "### ranking features\n",
    "use ranking difference between home and away team"
   ]
  },
  {
   "cell_type": "code",
   "execution_count": 26,
   "metadata": {
    "collapsed": true
   },
   "outputs": [],
   "source": [
    "# ranking data is missing for some months. resample rankings so that it is monthly. use previous month's data to fill if missing\n",
    "rankings.rank_date = pd.to_datetime(rankings.rank_date)\n",
    "\n",
    "rankings.set_index(\"rank_date\", inplace=True)\n",
    "\n",
    "rankings = rankings.groupby('country_full').resample('1M').ffill().reset_index(level=-1)"
   ]
  },
  {
   "cell_type": "code",
   "execution_count": 27,
   "metadata": {
    "collapsed": true
   },
   "outputs": [],
   "source": [
    "# ranking is monthly. join with matches on year-month\n",
    "rankings['year_month'] = rankings.rank_date.apply(lambda x: pd.datetime.strftime(x, '%Y-%m'))\n",
    "X['year_month'] = matches.index.map(lambda x: pd.datetime.strftime(x, '%Y-%m'))"
   ]
  },
  {
   "cell_type": "code",
   "execution_count": 28,
   "metadata": {
    "collapsed": true
   },
   "outputs": [],
   "source": [
    "X = pd.merge(rankings, X, \n",
    "             left_on=['country_full', 'year_month'],\n",
    "             right_on=['home_team', 'year_month'])\n",
    "\n",
    "X = pd.merge(rankings, X,\n",
    "             left_on=['country_full', 'year_month'],\n",
    "             right_on=['away_team', 'year_month'],\n",
    "             suffixes=('_away', '_home'))"
   ]
  },
  {
   "cell_type": "code",
   "execution_count": 29,
   "metadata": {
    "collapsed": true
   },
   "outputs": [],
   "source": [
    "# create diff features\n",
    "for c in [u'rank_away', \n",
    "       u'total_points_away', u'previous_points_away', u'rank_change_away',\n",
    "       u'cur_year_avg_away', u'cur_year_avg_weighted_away',\n",
    "       u'last_year_avg_away', u'last_year_avg_weighted_away',\n",
    "       u'two_year_ago_avg_away', u'two_year_ago_weighted_away',\n",
    "       u'three_year_ago_avg_away', u'three_year_ago_weighted_away']:\n",
    "    feat_name = c[:-5]\n",
    "    X[feat_name + '_diff'] = X[feat_name + '_home'] - X[c]"
   ]
  },
  {
   "cell_type": "markdown",
   "metadata": {},
   "source": [
    "### GDP features"
   ]
  },
  {
   "cell_type": "code",
   "execution_count": 30,
   "metadata": {
    "collapsed": true
   },
   "outputs": [],
   "source": [
    "X['year'] = X.year_month.apply(lambda x: int(x[:-3]))"
   ]
  },
  {
   "cell_type": "code",
   "execution_count": 31,
   "metadata": {
    "collapsed": true
   },
   "outputs": [],
   "source": [
    "X = pd.merge(X, gdp, left_on=['home_team', 'year'], right_on=['Country', 'year'], how='left')\n",
    "X = pd.merge(X, gdp, left_on=['away_team', 'year'], right_on=['Country', 'year'], how='left',\n",
    "             suffixes=('_home', '_away'))"
   ]
  },
  {
   "cell_type": "markdown",
   "metadata": {},
   "source": [
    "### Odds features"
   ]
  },
  {
   "cell_type": "code",
   "execution_count": 32,
   "metadata": {},
   "outputs": [
    {
     "data": {
      "text/html": [
       "<div>\n",
       "<style>\n",
       "    .dataframe thead tr:only-child th {\n",
       "        text-align: right;\n",
       "    }\n",
       "\n",
       "    .dataframe thead th {\n",
       "        text-align: left;\n",
       "    }\n",
       "\n",
       "    .dataframe tbody tr th {\n",
       "        vertical-align: top;\n",
       "    }\n",
       "</style>\n",
       "<table border=\"1\" class=\"dataframe\">\n",
       "  <thead>\n",
       "    <tr style=\"text-align: right;\">\n",
       "      <th></th>\n",
       "      <th>away</th>\n",
       "      <th>cross</th>\n",
       "      <th>home</th>\n",
       "      <th>ones</th>\n",
       "      <th>twos</th>\n",
       "      <th>year</th>\n",
       "    </tr>\n",
       "  </thead>\n",
       "  <tbody>\n",
       "    <tr>\n",
       "      <th>0</th>\n",
       "      <td>Argentina</td>\n",
       "      <td>3.29</td>\n",
       "      <td>Germany</td>\n",
       "      <td>2.36</td>\n",
       "      <td>3.35</td>\n",
       "      <td>2014</td>\n",
       "    </tr>\n",
       "    <tr>\n",
       "      <th>1</th>\n",
       "      <td>Netherlands</td>\n",
       "      <td>3.71</td>\n",
       "      <td>Brazil</td>\n",
       "      <td>2.16</td>\n",
       "      <td>3.36</td>\n",
       "      <td>2014</td>\n",
       "    </tr>\n",
       "    <tr>\n",
       "      <th>2</th>\n",
       "      <td>Argentina</td>\n",
       "      <td>3.23</td>\n",
       "      <td>Netherlands</td>\n",
       "      <td>3.07</td>\n",
       "      <td>2.54</td>\n",
       "      <td>2014</td>\n",
       "    </tr>\n",
       "    <tr>\n",
       "      <th>3</th>\n",
       "      <td>Germany</td>\n",
       "      <td>3.21</td>\n",
       "      <td>Brazil</td>\n",
       "      <td>2.65</td>\n",
       "      <td>2.93</td>\n",
       "      <td>2014</td>\n",
       "    </tr>\n",
       "    <tr>\n",
       "      <th>4</th>\n",
       "      <td>Costa Rica</td>\n",
       "      <td>4.16</td>\n",
       "      <td>Netherlands</td>\n",
       "      <td>1.53</td>\n",
       "      <td>7.15</td>\n",
       "      <td>2014</td>\n",
       "    </tr>\n",
       "  </tbody>\n",
       "</table>\n",
       "</div>"
      ],
      "text/plain": [
       "          away  cross         home  ones  twos  year\n",
       "0    Argentina   3.29      Germany  2.36  3.35  2014\n",
       "1  Netherlands   3.71       Brazil  2.16  3.36  2014\n",
       "2    Argentina   3.23  Netherlands  3.07  2.54  2014\n",
       "3      Germany   3.21       Brazil  2.65  2.93  2014\n",
       "4   Costa Rica   4.16  Netherlands  1.53  7.15  2014"
      ]
     },
     "execution_count": 32,
     "metadata": {},
     "output_type": "execute_result"
    }
   ],
   "source": [
    "# just merge with odds data and see...\n",
    "odds.head()"
   ]
  },
  {
   "cell_type": "code",
   "execution_count": 33,
   "metadata": {
    "collapsed": true
   },
   "outputs": [],
   "source": [
    "# flip home and away for easy joining\n",
    "odds2 = odds.copy()\n",
    "odds2.columns = ['home', 'cross', 'away', 'twos', 'ones', 'year']\n",
    "odds = pd.concat([odds, odds2], axis=0)"
   ]
  },
  {
   "cell_type": "code",
   "execution_count": 34,
   "metadata": {
    "collapsed": true
   },
   "outputs": [],
   "source": [
    "X = pd.merge(X, odds, left_on=['home_team', 'away_team', 'year'],\n",
    "                  right_on=['home', 'away', 'year'], how='left')"
   ]
  },
  {
   "cell_type": "code",
   "execution_count": 35,
   "metadata": {},
   "outputs": [
    {
     "data": {
      "text/plain": [
       "Index([              u'rank_date_away',                    u'rank_away',\n",
       "                  u'country_full_away',            u'country_abrv_away',\n",
       "                  u'total_points_away',         u'previous_points_away',\n",
       "                   u'rank_change_away',            u'cur_year_avg_away',\n",
       "         u'cur_year_avg_weighted_away',           u'last_year_avg_away',\n",
       "        u'last_year_avg_weighted_away',        u'two_year_ago_avg_away',\n",
       "         u'two_year_ago_weighted_away',      u'three_year_ago_avg_away',\n",
       "       u'three_year_ago_weighted_away',           u'confederation_away',\n",
       "                         u'year_month',               u'rank_date_home',\n",
       "                          u'rank_home',            u'country_full_home',\n",
       "                  u'country_abrv_home',            u'total_points_home',\n",
       "               u'previous_points_home',             u'rank_change_home',\n",
       "                  u'cur_year_avg_home',   u'cur_year_avg_weighted_home',\n",
       "                 u'last_year_avg_home',  u'last_year_avg_weighted_home',\n",
       "              u'two_year_ago_avg_home',   u'two_year_ago_weighted_home',\n",
       "            u'three_year_ago_avg_home', u'three_year_ago_weighted_home',\n",
       "                 u'confederation_home',                    u'home_team',\n",
       "                          u'away_team',                   u'home_score',\n",
       "                         u'away_score',                   u'tournament',\n",
       "                               u'city',                      u'country',\n",
       "                            u'neutral',                       u'result',\n",
       "                     u'home_advantage',              u'home_draw_count',\n",
       "                     u'home_win_count',             u'total_away_score',\n",
       "                        u'total_count',             u'total_home_score',\n",
       "                      u'home_win_rate',               u'home_draw_rate',\n",
       "                   u'total_score_diff',                    u'rank_diff',\n",
       "                  u'total_points_diff',         u'previous_points_diff',\n",
       "                   u'rank_change_diff',            u'cur_year_avg_diff',\n",
       "         u'cur_year_avg_weighted_diff',           u'last_year_avg_diff',\n",
       "        u'last_year_avg_weighted_diff',        u'two_year_ago_avg_diff',\n",
       "         u'two_year_ago_weighted_diff',      u'three_year_ago_avg_diff',\n",
       "       u'three_year_ago_weighted_diff',                         u'year',\n",
       "                       u'Country_home',                   u'gdppc_home',\n",
       "                       u'Country_away',                   u'gdppc_away',\n",
       "                               u'away',                        u'cross',\n",
       "                               u'home',                         u'ones',\n",
       "                               u'twos'],\n",
       "      dtype='object')"
      ]
     },
     "execution_count": 35,
     "metadata": {},
     "output_type": "execute_result"
    }
   ],
   "source": [
    "X.columns"
   ]
  },
  {
   "cell_type": "markdown",
   "metadata": {},
   "source": [
    "odds and gdp features do not appear to be significant in prediction, so they are removed from training"
   ]
  },
  {
   "cell_type": "markdown",
   "metadata": {},
   "source": [
    "## Model"
   ]
  },
  {
   "cell_type": "code",
   "execution_count": 36,
   "metadata": {
    "collapsed": true
   },
   "outputs": [],
   "source": [
    "from sklearn.ensemble import RandomForestClassifier\n",
    "from sklearn.metrics import accuracy_score, confusion_matrix, roc_auc_score\n",
    "from sklearn.model_selection import train_test_split, GridSearchCV"
   ]
  },
  {
   "cell_type": "code",
   "execution_count": 37,
   "metadata": {},
   "outputs": [
    {
     "data": {
      "text/plain": [
       "['rank_diff',\n",
       " u'total_points_diff',\n",
       " u'previous_points_diff',\n",
       " u'cur_year_avg_diff',\n",
       " u'cur_year_avg_weighted_diff',\n",
       " u'last_year_avg_diff',\n",
       " u'last_year_avg_weighted_diff',\n",
       " u'two_year_ago_avg_diff',\n",
       " u'two_year_ago_weighted_diff',\n",
       " u'three_year_ago_avg_diff',\n",
       " u'three_year_ago_weighted_diff',\n",
       " u'neutral',\n",
       " 'home_advantage',\n",
       " 'total_score_diff',\n",
       " 'home_win_rate',\n",
       " 'home_draw_rate']"
      ]
     },
     "execution_count": 37,
     "metadata": {},
     "output_type": "execute_result"
    }
   ],
   "source": [
    "features = ['rank_diff',\n",
    " u'total_points_diff',\n",
    " u'previous_points_diff',\n",
    "#  u'rank_change_diff',\n",
    " u'cur_year_avg_diff',\n",
    " u'cur_year_avg_weighted_diff',\n",
    " u'last_year_avg_diff',\n",
    " u'last_year_avg_weighted_diff',\n",
    " u'two_year_ago_avg_diff',\n",
    " u'two_year_ago_weighted_diff',\n",
    " u'three_year_ago_avg_diff',\n",
    " u'three_year_ago_weighted_diff',\n",
    " u'neutral', \n",
    "#                                                      'gdppc_home', 'gdppc_away', \n",
    "#                                                      'confederation_home', 'confederation_away',\n",
    "                                                     'home_advantage',\n",
    "#                                                      'cross', 'ones', 'twos', \n",
    "#                                                      'total_away_score', 'total_home_score', \n",
    "'total_score_diff',\n",
    "'home_win_rate', 'home_draw_rate'\n",
    "           ]\n",
    "features"
   ]
  },
  {
   "cell_type": "code",
   "execution_count": 38,
   "metadata": {},
   "outputs": [
    {
     "data": {
      "text/plain": [
       "(11269, 16)"
      ]
     },
     "execution_count": 38,
     "metadata": {},
     "output_type": "execute_result"
    }
   ],
   "source": [
    "# XX = X.fillna(0)\n",
    "y = X.result\n",
    "# XX = pd.get_dummies(XX[features])\n",
    "XX = X[features]\n",
    "XX.shape"
   ]
  },
  {
   "cell_type": "code",
   "execution_count": 39,
   "metadata": {},
   "outputs": [
    {
     "data": {
      "text/plain": [
       "((8451, 16), (2818, 16))"
      ]
     },
     "execution_count": 39,
     "metadata": {},
     "output_type": "execute_result"
    }
   ],
   "source": [
    "X_train, X_test, y_train, y_test = train_test_split(XX, y)\n",
    "X_train.shape, X_test.shape"
   ]
  },
  {
   "cell_type": "code",
   "execution_count": 40,
   "metadata": {},
   "outputs": [
    {
     "data": {
      "text/plain": [
       " 1    1398\n",
       "-1     794\n",
       " 0     626\n",
       "Name: result, dtype: int64"
      ]
     },
     "execution_count": 40,
     "metadata": {},
     "output_type": "execute_result"
    }
   ],
   "source": [
    "y_test.value_counts()"
   ]
  },
  {
   "cell_type": "code",
   "execution_count": 41,
   "metadata": {},
   "outputs": [
    {
     "data": {
      "text/plain": [
       "0.73598296664300922"
      ]
     },
     "execution_count": 41,
     "metadata": {},
     "output_type": "execute_result"
    }
   ],
   "source": [
    "rf_model = RandomForestClassifier(n_estimators=200, max_depth=6)\n",
    "rf_model.fit(X_train, y_train)\n",
    "y_pred_prob = rf_model.predict_proba(X_test)\n",
    "y_pred = rf_model.predict(X_test)\n",
    "accuracy_score(y_test, y_pred)"
   ]
  },
  {
   "cell_type": "code",
   "execution_count": 42,
   "metadata": {},
   "outputs": [
    {
     "name": "stdout",
     "output_type": "stream",
     "text": [
      "Grid scores on development set:\n",
      "0.729 (+/-0.019) for {'n_estimators': 200, 'max_depth': 5}\n",
      "0.727 (+/-0.018) for {'n_estimators': 400, 'max_depth': 5}\n",
      "0.728 (+/-0.017) for {'n_estimators': 600, 'max_depth': 5}\n",
      "0.734 (+/-0.012) for {'n_estimators': 200, 'max_depth': 7}\n",
      "0.734 (+/-0.014) for {'n_estimators': 400, 'max_depth': 7}\n",
      "0.735 (+/-0.014) for {'n_estimators': 600, 'max_depth': 7}\n",
      "0.736 (+/-0.011) for {'n_estimators': 200, 'max_depth': 9}\n",
      "0.738 (+/-0.018) for {'n_estimators': 400, 'max_depth': 9}\n",
      "0.738 (+/-0.018) for {'n_estimators': 600, 'max_depth': 9}\n",
      "Best parameters set found on development set:\n",
      "{'n_estimators': 400, 'max_depth': 9}\n",
      "('Accuracy: ', 0.74769339957416603)\n",
      "Confusion matrix:\n",
      "[[ 562   71  161]\n",
      " [ 124  277  225]\n",
      " [  74   56 1268]]\n"
     ]
    }
   ],
   "source": [
    "# let's do some hyperparameter tuning\n",
    "param_grid = [{\"max_depth\": [5, 7, 9], \"n_estimators\": [200, 400, 600]}]\n",
    "\n",
    "rf_model = GridSearchCV(RandomForestClassifier(n_jobs=-1), param_grid, cv=5, scoring='accuracy')\n",
    "\n",
    "rf_model.fit(X_train, y_train)\n",
    "best_model = rf_model.best_estimator_\n",
    "\n",
    "print(\"Grid scores on development set:\")\n",
    "means = rf_model.cv_results_['mean_test_score']\n",
    "stds = rf_model.cv_results_['std_test_score']\n",
    "for mean, std, params in zip(means, stds, rf_model.cv_results_['params']):\n",
    "    print(\"%0.3f (+/-%0.03f) for %r\"% (mean, std * 2, params))\n",
    "    \n",
    "print(\"Best parameters set found on development set:\")\n",
    "print(rf_model.best_params_)\n",
    "\n",
    "y_pred = best_model.predict(X_test)\n",
    "print(\"Accuracy: \", accuracy_score(y_test, y_pred,))\n",
    "print(\"Confusion matrix:\")\n",
    "print(confusion_matrix(y_test, y_pred))"
   ]
  },
  {
   "cell_type": "code",
   "execution_count": 43,
   "metadata": {},
   "outputs": [
    {
     "data": {
      "text/plain": [
       "(array([-1,  0,  1], dtype=int64), array([ 760,  404, 1654], dtype=int64))"
      ]
     },
     "execution_count": 43,
     "metadata": {},
     "output_type": "execute_result"
    }
   ],
   "source": [
    "np.unique(y_pred, return_counts=True)"
   ]
  },
  {
   "cell_type": "markdown",
   "metadata": {},
   "source": [
    "## Simulations"
   ]
  },
  {
   "cell_type": "markdown",
   "metadata": {},
   "source": [
    "### group rounds\n",
    "- win - 3 points\n",
    "- draw - 1 point\n",
    "- lose - 0 point"
   ]
  },
  {
   "cell_type": "code",
   "execution_count": 118,
   "metadata": {
    "collapsed": true
   },
   "outputs": [],
   "source": [
    "# best_model = rf_model"
   ]
  },
  {
   "cell_type": "code",
   "execution_count": 44,
   "metadata": {
    "collapsed": true
   },
   "outputs": [],
   "source": [
    "# prepare features for the 2018 matches - get from latest ranking\n",
    "def get_features(country1, country2):\n",
    "    feats = [c[:-5] for c in features[:12]]\n",
    "    country1_feats = rankings[rankings.country_full == country1].iloc[-1, :][feats]\n",
    "    country2_feats = rankings[rankings.country_full == country2].iloc[-1, :][feats]\n",
    "#     print(country1_feats, country2_feats)\n",
    "    final_feats = country1_feats - country2_feats\n",
    "    final_feats.index = [i + '_diff' for i in final_feats.index]\n",
    "    final_feats = pd.DataFrame(final_feats).T\n",
    "    final_feats['home_team'] = country1\n",
    "    final_feats['away_team'] = country2\n",
    "    # add home information\n",
    "    final_feats['home_advantage'] = (final_feats.home_team == 'Russia')\n",
    "    final_feats['neutral'] = (final_feats.home_team != 'Russia') & (final_feats.away_team != 'Russia')\n",
    "    final_feats = pd.merge(final_feats, hist_stats_w_oppo_agg, on=['home_team', 'away_team'], how='left')\n",
    "\n",
    "    \n",
    "#     final_feats['total_home_score'] = hist_stats_w_oppo_agg[(hist_stats_w_oppo_agg.home_team == country1) \n",
    "#                                                 & (hist_stats_w_oppo_agg.away_team == country2)].total_home_score.values[0]\n",
    "#     final_feats['home_win_rate'] = hist_stats_w_oppo_agg[(hist_stats_w_oppo_agg.home_team == country1) \n",
    "#                                                 & (hist_stats_w_oppo_agg.away_team == country2)].home_win_rate.values[0]\n",
    "#     final_feats['total_away_score'] = hist_stats_w_oppo_agg[(hist_stats_w_oppo_agg.home_team == country1) \n",
    "#                                                 & (hist_stats_w_oppo_agg.away_team == country2)].total_away_score.values[0]\n",
    "#     final_feats['home_draw_rate'] = hist_stats_w_oppo_agg[(hist_stats_w_oppo_agg.home_team == country1) \n",
    "#                                                 & (hist_stats_w_oppo_agg.away_team == country2)].home_draw_rate.values[0]\n",
    "    \n",
    "        \n",
    "    final_feats[['total_away_score','total_home_score','total_score_diff']] = final_feats[['total_away_score','total_home_score','total_score_diff']].fillna(0)\n",
    "    final_feats[['home_win_rate']] = final_feats[['home_win_rate']].fillna(0.4)\n",
    "    final_feats[['home_draw_rate']] = final_feats[['home_draw_rate']].fillna(0.2)\n",
    "    \n",
    "    return final_feats[features]"
   ]
  },
  {
   "cell_type": "code",
   "execution_count": 45,
   "metadata": {},
   "outputs": [
    {
     "data": {
      "text/html": [
       "<div>\n",
       "<style>\n",
       "    .dataframe thead tr:only-child th {\n",
       "        text-align: right;\n",
       "    }\n",
       "\n",
       "    .dataframe thead th {\n",
       "        text-align: left;\n",
       "    }\n",
       "\n",
       "    .dataframe tbody tr th {\n",
       "        vertical-align: top;\n",
       "    }\n",
       "</style>\n",
       "<table border=\"1\" class=\"dataframe\">\n",
       "  <thead>\n",
       "    <tr style=\"text-align: right;\">\n",
       "      <th></th>\n",
       "      <th>rank_diff</th>\n",
       "      <th>total_points_diff</th>\n",
       "      <th>previous_points_diff</th>\n",
       "      <th>cur_year_avg_diff</th>\n",
       "      <th>cur_year_avg_weighted_diff</th>\n",
       "      <th>last_year_avg_diff</th>\n",
       "      <th>last_year_avg_weighted_diff</th>\n",
       "      <th>two_year_ago_avg_diff</th>\n",
       "      <th>two_year_ago_weighted_diff</th>\n",
       "      <th>three_year_ago_avg_diff</th>\n",
       "      <th>three_year_ago_weighted_diff</th>\n",
       "      <th>neutral</th>\n",
       "      <th>home_advantage</th>\n",
       "      <th>total_score_diff</th>\n",
       "      <th>home_win_rate</th>\n",
       "      <th>home_draw_rate</th>\n",
       "    </tr>\n",
       "  </thead>\n",
       "  <tbody>\n",
       "    <tr>\n",
       "      <th>0</th>\n",
       "      <td>-32</td>\n",
       "      <td>679.82</td>\n",
       "      <td>652</td>\n",
       "      <td>141.83</td>\n",
       "      <td>141.83</td>\n",
       "      <td>675.24</td>\n",
       "      <td>337.62</td>\n",
       "      <td>254.97</td>\n",
       "      <td>76.49</td>\n",
       "      <td>619.4</td>\n",
       "      <td>123.88</td>\n",
       "      <td>True</td>\n",
       "      <td>False</td>\n",
       "      <td>0.0</td>\n",
       "      <td>0.4</td>\n",
       "      <td>0.2</td>\n",
       "    </tr>\n",
       "  </tbody>\n",
       "</table>\n",
       "</div>"
      ],
      "text/plain": [
       "  rank_diff total_points_diff previous_points_diff cur_year_avg_diff  \\\n",
       "0       -32            679.82                  652            141.83   \n",
       "\n",
       "  cur_year_avg_weighted_diff last_year_avg_diff last_year_avg_weighted_diff  \\\n",
       "0                     141.83             675.24                      337.62   \n",
       "\n",
       "  two_year_ago_avg_diff two_year_ago_weighted_diff three_year_ago_avg_diff  \\\n",
       "0                254.97                      76.49                   619.4   \n",
       "\n",
       "  three_year_ago_weighted_diff  neutral  home_advantage  total_score_diff  \\\n",
       "0                       123.88     True           False               0.0   \n",
       "\n",
       "   home_win_rate  home_draw_rate  \n",
       "0            0.4             0.2  "
      ]
     },
     "execution_count": 45,
     "metadata": {},
     "output_type": "execute_result"
    }
   ],
   "source": [
    "get_features('Brazil', 'Serbia')#.values.reshape(1, -1).shape"
   ]
  },
  {
   "cell_type": "code",
   "execution_count": 47,
   "metadata": {
    "collapsed": true
   },
   "outputs": [],
   "source": [
    "# start from latest points as of 22 Jun\n",
    "# matches_2018['points'] = 0\n",
    "current_results = pd.read_csv(\"../data/current_results.csv\")\n",
    "# for i, row in current_results.dropna().iterrows():\n",
    "#     if row.home_score > row.away_score:\n",
    "#         matches_2018.loc[row.home_team, 'points'] += 3\n",
    "#     elif row.home_score == row.away_score:\n",
    "#         matches_2018.loc[row.home_team, 'points'] += 1\n",
    "#         matches_2018.loc[row.away_team, 'points'] += 1\n",
    "#     else:\n",
    "#         matches_2018.loc[row.away_team, 'points'] += 3"
   ]
  },
  {
   "cell_type": "code",
   "execution_count": 48,
   "metadata": {
    "scrolled": false
   },
   "outputs": [
    {
     "name": "stdout",
     "output_type": "stream",
     "text": [
      "Group: C\n",
      "France vs. Denmark: \n",
      "[[ 0.48889618  0.05812602  0.4529778 ]]\n",
      "Group: C\n",
      "Australia vs. Peru: \n",
      "[[ 0.39761638  0.24431632  0.35806731]]\n",
      "Group: E\n",
      "Brazil vs. Serbia: \n",
      "[[ 0.27045402  0.25031821  0.47922776]]\n",
      "Group: E\n",
      "Switzerland vs. Costa Rica: \n",
      "[[ 0.36512069  0.22174839  0.41313092]]\n",
      "Group: D\n",
      "Argentina vs. Nigeria: \n",
      "[[ 0.02027861  0.01629831  0.96342308]]\n",
      "Group: D\n",
      "Iceland vs. Croatia: \n",
      "[[ 0.43140344  0.22693961  0.34165694]]\n",
      "Group: G\n",
      "Belgium vs. England: \n",
      "[[ 0.0747793   0.91001498  0.01520572]]\n",
      "Group: G\n",
      "Panama vs. Tunisia: \n",
      "[[ 0.49986505  0.22204769  0.27808726]]\n",
      "Group: F\n",
      "Germany vs. Korea Republic: \n",
      "[[ 0.10528522  0.01967887  0.87503591]]\n",
      "Group: F\n",
      "Mexico vs. Sweden: \n",
      "[[ 0.33002493  0.20861619  0.46135888]]\n",
      "Group: H\n",
      "Poland vs. Japan: \n",
      "[[ 0.87497615  0.06249508  0.06252877]]\n",
      "Group: H\n",
      "Senegal vs. Colombia: \n",
      "[[ 0.30542098  0.19676953  0.49780949]]\n"
     ]
    }
   ],
   "source": [
    "matches_2018['total_prob'] = 0\n",
    "\n",
    "for i, row in current_results[current_results.home_score.isnull()].iterrows():\n",
    "    print(\"Group: {}\".format(row.group))\n",
    "    home = row.home_team\n",
    "    away = row.away_team\n",
    "    print(\"{} vs. {}: \".format(home, away))\n",
    "    feats = get_features(home, away)\n",
    "    pred_prob = best_model.predict_proba(feats.values.reshape(1, -1))\n",
    "#         result = rf_model.predict(feats.values.reshape(1, -1))\n",
    "    matches_2018.loc[home, 'total_prob'] += pred_prob[0, 2]\n",
    "    matches_2018.loc[away, 'total_prob'] += pred_prob[0, 0]\n",
    "    # calculate the expected score for each team\n",
    "    matches_2018.loc[home, 'points'] += (3 * pred_prob[0, 2] + 1 * pred_prob[0, 1])\n",
    "    matches_2018.loc[away, 'points'] += (3 * pred_prob[0, 0] + 1 * pred_prob[0, 1])\n",
    "    print(pred_prob)\n",
    "        \n",
    "#         if result == 1: # home win\n",
    "#             matches_2018.loc[home, 'points'] += 3\n",
    "#             print(\"  {} wins ({})\".format(home, pred_prob[0, 2]))\n",
    "#         elif result == 0: # draw\n",
    "#             matches_2018.loc[home, 'points'] += 1\n",
    "#             matches_2018.loc[away, 'points'] += 1\n",
    "#             print(\"  Draw ({})\".format(home, pred_prob[0, 1]))\n",
    "#         else: # away win \n",
    "#             matches_2018.loc[away, 'points'] += 3\n",
    "#             print(\"  {} wins ({})\".format(away, pred_prob[0, 0]))\n"
   ]
  },
  {
   "cell_type": "code",
   "execution_count": 49,
   "metadata": {
    "collapsed": true
   },
   "outputs": [],
   "source": [
    "next_round = matches_2018.groupby('Group').apply(lambda x: \n",
    "                                    x.sort_values(by=['points', 'total_prob'], ascending=False).iloc[:2, :])\n",
    "\n",
    "\n",
    "next_round = next_round.drop('Group', axis=1).reset_index()[['Group', 'Team']]"
   ]
  },
  {
   "cell_type": "code",
   "execution_count": 50,
   "metadata": {
    "collapsed": true
   },
   "outputs": [],
   "source": [
    "pairing = [0,3,4,7,8,11,12,15,1,2,5,6,9,10,13,14]\n",
    "\n",
    "next_round = next_round.loc[pairing]\n",
    "next_round.set_index('Team', inplace=True)"
   ]
  },
  {
   "cell_type": "code",
   "execution_count": 51,
   "metadata": {},
   "outputs": [
    {
     "name": "stdout",
     "output_type": "stream",
     "text": [
      "___Starting of the round_of_16___\n",
      "Uruguay vs. Spain: \n",
      "  Spain wins (0.900514222965)\n",
      "France vs. Argentina: \n",
      "  France wins (0.497120633964)\n",
      "Brazil vs. Germany: \n",
      "  Brazil wins (0.541622931968)\n",
      "England vs. Senegal: \n",
      "  England wins (0.47003233773)\n",
      "Russia vs. Portugal: \n",
      "  Portugal wins (0.661327643831)\n",
      "Denmark vs. Croatia: \n",
      " Draw (0.413831580825)\n",
      "Denmark\n",
      "Switzerland vs. Mexico: \n",
      "  Switzerland wins (0.490335581012)\n",
      "Belgium vs. Japan: \n",
      " Draw (0.590095851519)\n",
      "Japan\n",
      "\n",
      "\n",
      "___Starting of the quarterfinal___\n",
      "Spain vs. France: \n",
      "  France wins (0.364736667069)\n",
      "Brazil vs. England: \n",
      "  Brazil wins (0.945230891881)\n",
      "Portugal vs. Denmark: \n",
      "  Portugal wins (0.492289756325)\n",
      "Switzerland vs. Japan: \n",
      "  Switzerland wins (0.466096719336)\n",
      "\n",
      "\n",
      "___Starting of the semifinal___\n",
      "France vs. Brazil: \n",
      "  France wins (0.605572337952)\n",
      "Portugal vs. Switzerland: \n",
      "  Switzerland wins (0.510262223087)\n",
      "\n",
      "\n",
      "___Starting of the final___\n",
      "France vs. Switzerland: \n",
      "  France wins (0.4510103148)\n",
      "\n",
      "\n"
     ]
    }
   ],
   "source": [
    "finals = ['round_of_16', 'quarterfinal', 'semifinal', 'final']\n",
    "\n",
    "for f in finals:\n",
    "    print(\"___Starting of the {}___\".format(f))\n",
    "    iterations = int(len(next_round) / 2)\n",
    "    winners = []\n",
    "\n",
    "    for i in range(iterations):\n",
    "        home = next_round.index[i*2]\n",
    "        away = next_round.index[i*2+1]\n",
    "        print(\"{} vs. {}: \".format(home, away))\n",
    "        feats = get_features(home, away)\n",
    "        pred_prob = best_model.predict_proba(feats.values.reshape(1, -1))\n",
    "        result = best_model.predict(feats.values.reshape(1, -1))\n",
    "        \n",
    "        if result == 1: # home win\n",
    "            print(\"  {} wins ({})\".format(home, pred_prob[0, 2]))\n",
    "            winners.append(home)\n",
    "        elif result == 0: # draw\n",
    "            print(\" Draw ({})\".format(pred_prob[0, 1]))\n",
    "            if pred_prob[0, 2] > pred_prob[0, 0]:\n",
    "                winners.append(home)\n",
    "                print(home)\n",
    "            else:\n",
    "                winners.append(away)\n",
    "                print(away)\n",
    "        else: # away win \n",
    "            print(\"  {} wins ({})\".format(away, pred_prob[0, 0]))\n",
    "            winners.append(away)\n",
    "                \n",
    "    next_round = next_round.loc[winners]\n",
    "    print(\"\\n\")"
   ]
  },
  {
   "cell_type": "markdown",
   "metadata": {},
   "source": [
    "## use all data to train model"
   ]
  },
  {
   "cell_type": "code",
   "execution_count": 53,
   "metadata": {},
   "outputs": [
    {
     "data": {
      "text/plain": [
       "RandomForestClassifier(bootstrap=True, class_weight=None, criterion='gini',\n",
       "            max_depth=7, max_features='auto', max_leaf_nodes=None,\n",
       "            min_impurity_split=1e-07, min_samples_leaf=1,\n",
       "            min_samples_split=2, min_weight_fraction_leaf=0.0,\n",
       "            n_estimators=400, n_jobs=1, oob_score=False, random_state=None,\n",
       "            verbose=0, warm_start=False)"
      ]
     },
     "execution_count": 53,
     "metadata": {},
     "output_type": "execute_result"
    }
   ],
   "source": [
    "best_model = RandomForestClassifier(n_estimators=400, max_depth=7)\n",
    "best_model.fit(XX, y)"
   ]
  },
  {
   "cell_type": "code",
   "execution_count": 54,
   "metadata": {
    "collapsed": true
   },
   "outputs": [],
   "source": [
    "# Reset to latest points as of 22 Jun\n",
    "matches_2018['points'] = 0\n",
    "current_results = pd.read_csv(\"../data/current_results.csv\")\n",
    "for i, row in current_results.dropna().iterrows():\n",
    "    if row.home_score > row.away_score:\n",
    "        matches_2018.loc[row.home_team, 'points'] += 3\n",
    "    elif row.home_score == row.away_score:\n",
    "        matches_2018.loc[row.home_team, 'points'] += 1\n",
    "        matches_2018.loc[row.away_team, 'points'] += 1\n",
    "    else:\n",
    "        matches_2018.loc[row.away_team, 'points'] += 3"
   ]
  },
  {
   "cell_type": "code",
   "execution_count": 55,
   "metadata": {
    "scrolled": false
   },
   "outputs": [
    {
     "name": "stdout",
     "output_type": "stream",
     "text": [
      "Group: C\n",
      "France vs. Denmark: \n",
      "[[ 0.36883757  0.08330065  0.54786178]]\n",
      "Group: C\n",
      "Australia vs. Peru: \n",
      "[[ 0.38832396  0.20815866  0.40351738]]\n",
      "Group: E\n",
      "Brazil vs. Serbia: \n",
      "[[ 0.29047672  0.25970585  0.44981743]]\n",
      "Group: E\n",
      "Switzerland vs. Costa Rica: \n",
      "[[ 0.30395023  0.23733151  0.45871825]]\n",
      "Group: D\n",
      "Argentina vs. Nigeria: \n",
      "[[ 0.02922528  0.01122532  0.9595494 ]]\n",
      "Group: D\n",
      "Iceland vs. Croatia: \n",
      "[[ 0.50511791  0.22797267  0.26690943]]\n",
      "Group: G\n",
      "Belgium vs. England: \n",
      "[[ 0.08506794  0.88630779  0.02862427]]\n",
      "Group: G\n",
      "Panama vs. Tunisia: \n",
      "[[ 0.43408828  0.22186805  0.34404367]]\n",
      "Group: F\n",
      "Germany vs. Korea Republic: \n",
      "[[ 0.07612984  0.02525847  0.89861169]]\n",
      "Group: F\n",
      "Mexico vs. Sweden: \n",
      "[[ 0.33025763  0.20284717  0.4668952 ]]\n",
      "Group: H\n",
      "Poland vs. Japan: \n",
      "[[ 0.80800022  0.06762963  0.12437015]]\n",
      "Group: H\n",
      "Senegal vs. Colombia: \n",
      "[[ 0.29306545  0.19086544  0.5160691 ]]\n"
     ]
    }
   ],
   "source": [
    "matches_2018['total_prob'] = 0\n",
    "\n",
    "for i, row in current_results[current_results.home_score.isnull()].iterrows():\n",
    "    print(\"Group: {}\".format(row.group))\n",
    "    home = row.home_team\n",
    "    away = row.away_team\n",
    "    print(\"{} vs. {}: \".format(home, away))\n",
    "    feats = get_features(home, away)\n",
    "    pred_prob = best_model.predict_proba(feats.values.reshape(1, -1))\n",
    "#         result = rf_model.predict(feats.values.reshape(1, -1))\n",
    "    matches_2018.loc[home, 'total_prob'] += pred_prob[0, 2]\n",
    "    matches_2018.loc[away, 'total_prob'] += pred_prob[0, 0]\n",
    "    # calculate the expected score for each team\n",
    "    matches_2018.loc[home, 'points'] += (3 * pred_prob[0, 2] + 1 * pred_prob[0, 1])\n",
    "    matches_2018.loc[away, 'points'] += (3 * pred_prob[0, 0] + 1 * pred_prob[0, 1])\n",
    "    print(pred_prob)\n",
    "        \n",
    "#         if result == 1: # home win\n",
    "#             matches_2018.loc[home, 'points'] += 3\n",
    "#             print(\"  {} wins ({})\".format(home, pred_prob[0, 2]))\n",
    "#         elif result == 0: # draw\n",
    "#             matches_2018.loc[home, 'points'] += 1\n",
    "#             matches_2018.loc[away, 'points'] += 1\n",
    "#             print(\"  Draw ({})\".format(home, pred_prob[0, 1]))\n",
    "#         else: # away win \n",
    "#             matches_2018.loc[away, 'points'] += 3\n",
    "#             print(\"  {} wins ({})\".format(away, pred_prob[0, 0]))\n"
   ]
  },
  {
   "cell_type": "code",
   "execution_count": 56,
   "metadata": {
    "collapsed": true
   },
   "outputs": [],
   "source": [
    "next_round = matches_2018.groupby('Group').apply(lambda x: \n",
    "                                    x.sort_values(by=['points', 'total_prob'], ascending=False).iloc[:2, :])\n",
    "\n",
    "\n",
    "next_round = next_round.drop('Group', axis=1).reset_index()[['Group', 'Team']]"
   ]
  },
  {
   "cell_type": "code",
   "execution_count": 57,
   "metadata": {
    "collapsed": true
   },
   "outputs": [],
   "source": [
    "# pairing = [0,3,4,7,8,11,12,15,1,2,5,6,9,10,13,14]\n",
    "pairing = [1,3,4,7,8,11,12,15,0,2,5,6,9,10,13,14] #this is a hack to keep the grouping same as real world\n",
    "\n",
    "\n",
    "next_round = next_round.loc[pairing]\n",
    "next_round.set_index('Team', inplace=True)"
   ]
  },
  {
   "cell_type": "code",
   "execution_count": 58,
   "metadata": {},
   "outputs": [
    {
     "name": "stdout",
     "output_type": "stream",
     "text": [
      "___Starting of the round_of_16___\n",
      "Russia vs. Spain: \n",
      "  Spain wins (0.929768246174)\n",
      "France vs. Iceland: \n",
      "  France wins (0.624626332816)\n",
      "Switzerland vs. Germany: \n",
      "  Germany wins (0.418418047455)\n",
      "England vs. Senegal: \n",
      "  England wins (0.487870661483)\n",
      "Uruguay vs. Portugal: \n",
      "  Uruguay wins (0.418729757209)\n",
      "Denmark vs. Croatia: \n",
      "  Draw (0.339273052369)\n",
      "Denmark\n",
      "Brazil vs. Mexico: \n",
      "  Brazil wins (0.498896935175)\n",
      "Belgium vs. Japan: \n",
      "  Draw (0.529899631427)\n",
      "Japan\n",
      "\n",
      "\n",
      "___Starting of the quarterfinal___\n",
      "Spain vs. France: \n",
      "  Draw (0.357205771397)\n",
      "Spain\n",
      "Germany vs. England: \n",
      "  England wins (0.474212490718)\n",
      "Uruguay vs. Denmark: \n",
      "  Denmark wins (0.86048557036)\n",
      "Brazil vs. Japan: \n",
      "  Brazil wins (0.466414874576)\n",
      "\n",
      "\n",
      "___Starting of the semifinal___\n",
      "Spain vs. England: \n",
      "  Draw (0.885346997554)\n",
      "England\n",
      "Denmark vs. Brazil: \n",
      "  Brazil wins (0.915359582965)\n",
      "\n",
      "\n",
      "___Starting of the final___\n",
      "England vs. Brazil: \n",
      "  Brazil wins (0.883419212862)\n",
      "\n",
      "\n"
     ]
    }
   ],
   "source": [
    "finals = ['round_of_16', 'quarterfinal', 'semifinal', 'final']\n",
    "\n",
    "for f in finals:\n",
    "    print(\"___Starting of the {}___\".format(f))\n",
    "    iterations = int(len(next_round) / 2)\n",
    "    winners = []\n",
    "\n",
    "    for i in range(iterations):\n",
    "        home = next_round.index[i*2]\n",
    "        away = next_round.index[i*2+1]\n",
    "        print(\"{} vs. {}: \".format(home, away))\n",
    "        feats = get_features(home, away)\n",
    "        pred_prob = best_model.predict_proba(feats.values.reshape(1, -1))\n",
    "        result = best_model.predict(feats.values.reshape(1, -1))\n",
    "        \n",
    "        if result == 1: # home win\n",
    "            print(\"  {} wins ({})\".format(home, pred_prob[0, 2]))\n",
    "            winners.append(home)\n",
    "        elif result == 0: # draw\n",
    "            print(\"  Draw ({})\".format(pred_prob[0, 1]))\n",
    "            if pred_prob[0, 2] > pred_prob[0, 0]:\n",
    "                winners.append(home)\n",
    "                print(home)\n",
    "            else:\n",
    "                winners.append(away)\n",
    "                print(away)\n",
    "        else: # away win \n",
    "            print(\"  {} wins ({})\".format(away, pred_prob[0, 0]))\n",
    "            winners.append(away)\n",
    "                \n",
    "    next_round = next_round.loc[winners]\n",
    "    print(\"\\n\")"
   ]
  },
  {
   "cell_type": "markdown",
   "metadata": {},
   "source": [
    "## Further improvements:\n",
    "- How to deal with draw? \n",
    "- Run simulations for many rounds: \n",
    "    - Use the model prediction mean/sd\n",
    "    - or Use the probability\n",
    "    - Add some random disturbance\n",
    "\n",
    "- Other useful data/features:\n",
    "    - weather\n",
    "    - time of match\n",
    "    - player data\n",
    "    - twitter sentiment\n",
    "    - odds: http://www.football-data.co.uk/data.php"
   ]
  },
  {
   "cell_type": "code",
   "execution_count": null,
   "metadata": {
    "collapsed": true
   },
   "outputs": [],
   "source": []
  }
 ],
 "metadata": {
  "kernelspec": {
   "display_name": "Python 2",
   "language": "python",
   "name": "python2"
  },
  "language_info": {
   "codemirror_mode": {
    "name": "ipython",
    "version": 2
   },
   "file_extension": ".py",
   "mimetype": "text/x-python",
   "name": "python",
   "nbconvert_exporter": "python",
   "pygments_lexer": "ipython2",
   "version": "2.7.13"
  },
  "toc": {
   "nav_menu": {},
   "number_sections": true,
   "sideBar": true,
   "skip_h1_title": false,
   "title_cell": "Table of Contents",
   "title_sidebar": "Contents",
   "toc_cell": false,
   "toc_position": {},
   "toc_section_display": true,
   "toc_window_display": false
  }
 },
 "nbformat": 4,
 "nbformat_minor": 2
}
