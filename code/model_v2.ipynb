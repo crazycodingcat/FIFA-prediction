{
 "cells": [
  {
   "cell_type": "code",
   "execution_count": 4,
   "metadata": {
    "collapsed": false
   },
   "outputs": [],
   "source": [
    "import pandas as pd\n",
    "import numpy as np\n",
    "import matplotlib.pyplot as plt\n",
    "%matplotlib inline"
   ]
  },
  {
   "cell_type": "code",
   "execution_count": 5,
   "metadata": {
    "collapsed": false
   },
   "outputs": [],
   "source": [
    "import xgboost"
   ]
  },
  {
   "cell_type": "markdown",
   "metadata": {},
   "source": [
    "## load data"
   ]
  },
  {
   "cell_type": "markdown",
   "metadata": {},
   "source": [
    "Data sources:\n",
    "- Historical match results\n",
    "- FIFA ranking\n",
    "- GDP\n",
    "- Bookie odds\n",
    "- 2018 match\n",
    "\n",
    "http://www.football-data.co.uk/data.php"
   ]
  },
  {
   "cell_type": "code",
   "execution_count": 6,
   "metadata": {
    "collapsed": false
   },
   "outputs": [
    {
     "data": {
      "text/plain": [
       "((39008, 9), (57793, 16), (33, 20), (220, 49), (3192, 6))"
      ]
     },
     "execution_count": 6,
     "metadata": {},
     "output_type": "execute_result"
    }
   ],
   "source": [
    "# historical match results\n",
    "matches = pd.read_csv(\"../data/results.csv\") #parse_dates=['date'])\n",
    "\n",
    "# monthly ranking since Aug 1993\n",
    "rankings = pd.read_csv(\"../data/fifa_ranking.csv\",) #parse_dates=['rank_date'])\n",
    "\n",
    "# 2018 match\n",
    "matches_2018 = pd.read_csv(\"../data/World Cup 2018 Dataset.csv\")\n",
    "\n",
    "# GDP data\n",
    "gdp = pd.read_excel(\"../data/Download-GDPPC-USD-countries.xls\", skiprows=[0, 1])\n",
    "\n",
    "# odds data\n",
    "odds = pd.read_csv(\"../data/historical_odds.csv\", na_values='-')\n",
    "\n",
    "matches.shape, rankings.shape, matches_2018.shape, gdp.shape, odds.shape"
   ]
  },
  {
   "cell_type": "code",
   "execution_count": 7,
   "metadata": {
    "collapsed": false
   },
   "outputs": [
    {
     "data": {
      "text/html": [
       "<div>\n",
       "<table border=\"1\" class=\"dataframe\">\n",
       "  <thead>\n",
       "    <tr style=\"text-align: right;\">\n",
       "      <th></th>\n",
       "      <th>date</th>\n",
       "      <th>home_team</th>\n",
       "      <th>away_team</th>\n",
       "      <th>home_score</th>\n",
       "      <th>away_score</th>\n",
       "      <th>tournament</th>\n",
       "      <th>city</th>\n",
       "      <th>country</th>\n",
       "      <th>neutral</th>\n",
       "    </tr>\n",
       "  </thead>\n",
       "  <tbody>\n",
       "    <tr>\n",
       "      <th>0</th>\n",
       "      <td>1872-11-30</td>\n",
       "      <td>Scotland</td>\n",
       "      <td>England</td>\n",
       "      <td>0</td>\n",
       "      <td>0</td>\n",
       "      <td>Friendly</td>\n",
       "      <td>Glasgow</td>\n",
       "      <td>Scotland</td>\n",
       "      <td>False</td>\n",
       "    </tr>\n",
       "    <tr>\n",
       "      <th>1</th>\n",
       "      <td>1873-03-08</td>\n",
       "      <td>England</td>\n",
       "      <td>Scotland</td>\n",
       "      <td>4</td>\n",
       "      <td>2</td>\n",
       "      <td>Friendly</td>\n",
       "      <td>London</td>\n",
       "      <td>England</td>\n",
       "      <td>False</td>\n",
       "    </tr>\n",
       "    <tr>\n",
       "      <th>2</th>\n",
       "      <td>1874-03-07</td>\n",
       "      <td>Scotland</td>\n",
       "      <td>England</td>\n",
       "      <td>2</td>\n",
       "      <td>1</td>\n",
       "      <td>Friendly</td>\n",
       "      <td>Glasgow</td>\n",
       "      <td>Scotland</td>\n",
       "      <td>False</td>\n",
       "    </tr>\n",
       "    <tr>\n",
       "      <th>3</th>\n",
       "      <td>1875-03-06</td>\n",
       "      <td>England</td>\n",
       "      <td>Scotland</td>\n",
       "      <td>2</td>\n",
       "      <td>2</td>\n",
       "      <td>Friendly</td>\n",
       "      <td>London</td>\n",
       "      <td>England</td>\n",
       "      <td>False</td>\n",
       "    </tr>\n",
       "    <tr>\n",
       "      <th>4</th>\n",
       "      <td>1876-03-04</td>\n",
       "      <td>Scotland</td>\n",
       "      <td>England</td>\n",
       "      <td>3</td>\n",
       "      <td>0</td>\n",
       "      <td>Friendly</td>\n",
       "      <td>Glasgow</td>\n",
       "      <td>Scotland</td>\n",
       "      <td>False</td>\n",
       "    </tr>\n",
       "  </tbody>\n",
       "</table>\n",
       "</div>"
      ],
      "text/plain": [
       "         date home_team away_team  home_score  away_score tournament     city  \\\n",
       "0  1872-11-30  Scotland   England           0           0   Friendly  Glasgow   \n",
       "1  1873-03-08   England  Scotland           4           2   Friendly   London   \n",
       "2  1874-03-07  Scotland   England           2           1   Friendly  Glasgow   \n",
       "3  1875-03-06   England  Scotland           2           2   Friendly   London   \n",
       "4  1876-03-04  Scotland   England           3           0   Friendly  Glasgow   \n",
       "\n",
       "    country neutral  \n",
       "0  Scotland   False  \n",
       "1   England   False  \n",
       "2  Scotland   False  \n",
       "3   England   False  \n",
       "4  Scotland   False  "
      ]
     },
     "execution_count": 7,
     "metadata": {},
     "output_type": "execute_result"
    }
   ],
   "source": [
    "matches.head()\n",
    "# neutral: match is in 3rd country"
   ]
  },
  {
   "cell_type": "code",
   "execution_count": 8,
   "metadata": {
    "collapsed": false
   },
   "outputs": [
    {
     "data": {
      "text/html": [
       "<div>\n",
       "<table border=\"1\" class=\"dataframe\">\n",
       "  <thead>\n",
       "    <tr style=\"text-align: right;\">\n",
       "      <th></th>\n",
       "      <th>Team</th>\n",
       "      <th>Group</th>\n",
       "      <th>Previous \n",
       "appearances</th>\n",
       "      <th>Previous \n",
       "titles</th>\n",
       "      <th>Previous\n",
       " finals</th>\n",
       "      <th>Previous\n",
       " semifinals</th>\n",
       "      <th>Current \n",
       "FIFA rank</th>\n",
       "      <th>First match \n",
       "against</th>\n",
       "      <th>Match index</th>\n",
       "      <th>history with \n",
       "first opponent\n",
       " W-L</th>\n",
       "      <th>history with\n",
       " first opponent\n",
       " goals</th>\n",
       "      <th>Second match\n",
       " against</th>\n",
       "      <th>Match index.1</th>\n",
       "      <th>history with\n",
       " second opponent\n",
       " W-L</th>\n",
       "      <th>history with\n",
       " second opponent\n",
       " goals</th>\n",
       "      <th>Third match\n",
       " against</th>\n",
       "      <th>Match index.2</th>\n",
       "      <th>history with\n",
       " third opponent\n",
       " W-L</th>\n",
       "      <th>history with\n",
       " third opponent\n",
       " goals</th>\n",
       "      <th>Unnamed: 19</th>\n",
       "    </tr>\n",
       "  </thead>\n",
       "  <tbody>\n",
       "    <tr>\n",
       "      <th>0</th>\n",
       "      <td>Russia</td>\n",
       "      <td>A</td>\n",
       "      <td>10.0</td>\n",
       "      <td>0.0</td>\n",
       "      <td>0.0</td>\n",
       "      <td>1.0</td>\n",
       "      <td>65.0</td>\n",
       "      <td>Saudi Arabia</td>\n",
       "      <td>1.0</td>\n",
       "      <td>-1.0</td>\n",
       "      <td>-2.0</td>\n",
       "      <td>Egypt</td>\n",
       "      <td>17.0</td>\n",
       "      <td>NaN</td>\n",
       "      <td>NaN</td>\n",
       "      <td>Uruguay</td>\n",
       "      <td>33.0</td>\n",
       "      <td>0.0</td>\n",
       "      <td>0.0</td>\n",
       "      <td>NaN</td>\n",
       "    </tr>\n",
       "    <tr>\n",
       "      <th>1</th>\n",
       "      <td>Saudi Arabia</td>\n",
       "      <td>A</td>\n",
       "      <td>4.0</td>\n",
       "      <td>0.0</td>\n",
       "      <td>0.0</td>\n",
       "      <td>0.0</td>\n",
       "      <td>63.0</td>\n",
       "      <td>Russia</td>\n",
       "      <td>1.0</td>\n",
       "      <td>1.0</td>\n",
       "      <td>2.0</td>\n",
       "      <td>Uruguay</td>\n",
       "      <td>18.0</td>\n",
       "      <td>1.0</td>\n",
       "      <td>1.0</td>\n",
       "      <td>Egypt</td>\n",
       "      <td>34.0</td>\n",
       "      <td>-5.0</td>\n",
       "      <td>-5.0</td>\n",
       "      <td>NaN</td>\n",
       "    </tr>\n",
       "    <tr>\n",
       "      <th>2</th>\n",
       "      <td>Egypt</td>\n",
       "      <td>A</td>\n",
       "      <td>2.0</td>\n",
       "      <td>0.0</td>\n",
       "      <td>0.0</td>\n",
       "      <td>0.0</td>\n",
       "      <td>31.0</td>\n",
       "      <td>Uruguay</td>\n",
       "      <td>2.0</td>\n",
       "      <td>-1.0</td>\n",
       "      <td>-2.0</td>\n",
       "      <td>Russia</td>\n",
       "      <td>17.0</td>\n",
       "      <td>NaN</td>\n",
       "      <td>NaN</td>\n",
       "      <td>Saudi Arabia</td>\n",
       "      <td>34.0</td>\n",
       "      <td>5.0</td>\n",
       "      <td>5.0</td>\n",
       "      <td>NaN</td>\n",
       "    </tr>\n",
       "    <tr>\n",
       "      <th>3</th>\n",
       "      <td>Uruguay</td>\n",
       "      <td>A</td>\n",
       "      <td>12.0</td>\n",
       "      <td>2.0</td>\n",
       "      <td>2.0</td>\n",
       "      <td>5.0</td>\n",
       "      <td>21.0</td>\n",
       "      <td>Egypt</td>\n",
       "      <td>2.0</td>\n",
       "      <td>1.0</td>\n",
       "      <td>2.0</td>\n",
       "      <td>Saudi Arabia</td>\n",
       "      <td>18.0</td>\n",
       "      <td>-1.0</td>\n",
       "      <td>-1.0</td>\n",
       "      <td>Russia</td>\n",
       "      <td>33.0</td>\n",
       "      <td>0.0</td>\n",
       "      <td>0.0</td>\n",
       "      <td>NaN</td>\n",
       "    </tr>\n",
       "    <tr>\n",
       "      <th>4</th>\n",
       "      <td>Porugal</td>\n",
       "      <td>B</td>\n",
       "      <td>6.0</td>\n",
       "      <td>0.0</td>\n",
       "      <td>0.0</td>\n",
       "      <td>2.0</td>\n",
       "      <td>3.0</td>\n",
       "      <td>Spain</td>\n",
       "      <td>3.0</td>\n",
       "      <td>-12.0</td>\n",
       "      <td>-31.0</td>\n",
       "      <td>Morocco</td>\n",
       "      <td>19.0</td>\n",
       "      <td>-1.0</td>\n",
       "      <td>-2.0</td>\n",
       "      <td>Iran</td>\n",
       "      <td>35.0</td>\n",
       "      <td>2.0</td>\n",
       "      <td>5.0</td>\n",
       "      <td>NaN</td>\n",
       "    </tr>\n",
       "  </tbody>\n",
       "</table>\n",
       "</div>"
      ],
      "text/plain": [
       "           Team Group  Previous \\nappearances  Previous \\ntitles  \\\n",
       "0        Russia     A                    10.0                0.0   \n",
       "1  Saudi Arabia     A                     4.0                0.0   \n",
       "2         Egypt     A                     2.0                0.0   \n",
       "3       Uruguay     A                    12.0                2.0   \n",
       "4       Porugal     B                     6.0                0.0   \n",
       "\n",
       "   Previous\\n finals  Previous\\n semifinals  Current \\nFIFA rank  \\\n",
       "0                0.0                    1.0                 65.0   \n",
       "1                0.0                    0.0                 63.0   \n",
       "2                0.0                    0.0                 31.0   \n",
       "3                2.0                    5.0                 21.0   \n",
       "4                0.0                    2.0                  3.0   \n",
       "\n",
       "  First match \\nagainst  Match index  history with \\nfirst opponent\\n W-L  \\\n",
       "0          Saudi Arabia          1.0                                 -1.0   \n",
       "1                Russia          1.0                                  1.0   \n",
       "2               Uruguay          2.0                                 -1.0   \n",
       "3                 Egypt          2.0                                  1.0   \n",
       "4                 Spain          3.0                                -12.0   \n",
       "\n",
       "   history with\\n first opponent\\n goals Second match\\n against  \\\n",
       "0                                   -2.0                  Egypt   \n",
       "1                                    2.0                Uruguay   \n",
       "2                                   -2.0                 Russia   \n",
       "3                                    2.0           Saudi Arabia   \n",
       "4                                  -31.0                Morocco   \n",
       "\n",
       "   Match index.1  history with\\n second opponent\\n W-L  \\\n",
       "0           17.0                                   NaN   \n",
       "1           18.0                                   1.0   \n",
       "2           17.0                                   NaN   \n",
       "3           18.0                                  -1.0   \n",
       "4           19.0                                  -1.0   \n",
       "\n",
       "   history with\\n second opponent\\n goals Third match\\n against  \\\n",
       "0                                     NaN               Uruguay   \n",
       "1                                     1.0                 Egypt   \n",
       "2                                     NaN          Saudi Arabia   \n",
       "3                                    -1.0                Russia   \n",
       "4                                    -2.0                  Iran   \n",
       "\n",
       "   Match index.2  history with\\n third opponent\\n W-L  \\\n",
       "0           33.0                                  0.0   \n",
       "1           34.0                                 -5.0   \n",
       "2           34.0                                  5.0   \n",
       "3           33.0                                  0.0   \n",
       "4           35.0                                  2.0   \n",
       "\n",
       "   history with\\n third opponent\\n goals  Unnamed: 19  \n",
       "0                                    0.0          NaN  \n",
       "1                                   -5.0          NaN  \n",
       "2                                    5.0          NaN  \n",
       "3                                    0.0          NaN  \n",
       "4                                    5.0          NaN  "
      ]
     },
     "execution_count": 8,
     "metadata": {},
     "output_type": "execute_result"
    }
   ],
   "source": [
    "matches_2018.head()"
   ]
  },
  {
   "cell_type": "code",
   "execution_count": 9,
   "metadata": {
    "collapsed": false
   },
   "outputs": [
    {
     "data": {
      "text/html": [
       "<div>\n",
       "<table border=\"1\" class=\"dataframe\">\n",
       "  <thead>\n",
       "    <tr style=\"text-align: right;\">\n",
       "      <th></th>\n",
       "      <th>rank</th>\n",
       "      <th>country_full</th>\n",
       "      <th>country_abrv</th>\n",
       "      <th>total_points</th>\n",
       "      <th>previous_points</th>\n",
       "      <th>rank_change</th>\n",
       "      <th>cur_year_avg</th>\n",
       "      <th>cur_year_avg_weighted</th>\n",
       "      <th>last_year_avg</th>\n",
       "      <th>last_year_avg_weighted</th>\n",
       "      <th>two_year_ago_avg</th>\n",
       "      <th>two_year_ago_weighted</th>\n",
       "      <th>three_year_ago_avg</th>\n",
       "      <th>three_year_ago_weighted</th>\n",
       "      <th>confederation</th>\n",
       "      <th>rank_date</th>\n",
       "    </tr>\n",
       "  </thead>\n",
       "  <tbody>\n",
       "    <tr>\n",
       "      <th>57788</th>\n",
       "      <td>206</td>\n",
       "      <td>Anguilla</td>\n",
       "      <td>AIA</td>\n",
       "      <td>0.0</td>\n",
       "      <td>0</td>\n",
       "      <td>1</td>\n",
       "      <td>0.0</td>\n",
       "      <td>0.0</td>\n",
       "      <td>0.0</td>\n",
       "      <td>0.0</td>\n",
       "      <td>0.0</td>\n",
       "      <td>0.0</td>\n",
       "      <td>0.0</td>\n",
       "      <td>0.0</td>\n",
       "      <td>CONCACAF</td>\n",
       "      <td>2018-06-07</td>\n",
       "    </tr>\n",
       "    <tr>\n",
       "      <th>57789</th>\n",
       "      <td>206</td>\n",
       "      <td>Bahamas</td>\n",
       "      <td>BAH</td>\n",
       "      <td>0.0</td>\n",
       "      <td>0</td>\n",
       "      <td>1</td>\n",
       "      <td>0.0</td>\n",
       "      <td>0.0</td>\n",
       "      <td>0.0</td>\n",
       "      <td>0.0</td>\n",
       "      <td>0.0</td>\n",
       "      <td>0.0</td>\n",
       "      <td>0.0</td>\n",
       "      <td>0.0</td>\n",
       "      <td>CONCACAF</td>\n",
       "      <td>2018-06-07</td>\n",
       "    </tr>\n",
       "    <tr>\n",
       "      <th>57790</th>\n",
       "      <td>206</td>\n",
       "      <td>Eritrea</td>\n",
       "      <td>ERI</td>\n",
       "      <td>0.0</td>\n",
       "      <td>0</td>\n",
       "      <td>1</td>\n",
       "      <td>0.0</td>\n",
       "      <td>0.0</td>\n",
       "      <td>0.0</td>\n",
       "      <td>0.0</td>\n",
       "      <td>0.0</td>\n",
       "      <td>0.0</td>\n",
       "      <td>0.0</td>\n",
       "      <td>0.0</td>\n",
       "      <td>CAF</td>\n",
       "      <td>2018-06-07</td>\n",
       "    </tr>\n",
       "    <tr>\n",
       "      <th>57791</th>\n",
       "      <td>206</td>\n",
       "      <td>Somalia</td>\n",
       "      <td>SOM</td>\n",
       "      <td>0.0</td>\n",
       "      <td>0</td>\n",
       "      <td>1</td>\n",
       "      <td>0.0</td>\n",
       "      <td>0.0</td>\n",
       "      <td>0.0</td>\n",
       "      <td>0.0</td>\n",
       "      <td>0.0</td>\n",
       "      <td>0.0</td>\n",
       "      <td>0.0</td>\n",
       "      <td>0.0</td>\n",
       "      <td>CAF</td>\n",
       "      <td>2018-06-07</td>\n",
       "    </tr>\n",
       "    <tr>\n",
       "      <th>57792</th>\n",
       "      <td>206</td>\n",
       "      <td>Tonga</td>\n",
       "      <td>TGA</td>\n",
       "      <td>0.0</td>\n",
       "      <td>0</td>\n",
       "      <td>1</td>\n",
       "      <td>0.0</td>\n",
       "      <td>0.0</td>\n",
       "      <td>0.0</td>\n",
       "      <td>0.0</td>\n",
       "      <td>0.0</td>\n",
       "      <td>0.0</td>\n",
       "      <td>0.0</td>\n",
       "      <td>0.0</td>\n",
       "      <td>OFC</td>\n",
       "      <td>2018-06-07</td>\n",
       "    </tr>\n",
       "  </tbody>\n",
       "</table>\n",
       "</div>"
      ],
      "text/plain": [
       "       rank country_full country_abrv  total_points  previous_points  \\\n",
       "57788   206     Anguilla          AIA           0.0                0   \n",
       "57789   206      Bahamas          BAH           0.0                0   \n",
       "57790   206      Eritrea          ERI           0.0                0   \n",
       "57791   206      Somalia          SOM           0.0                0   \n",
       "57792   206        Tonga          TGA           0.0                0   \n",
       "\n",
       "       rank_change  cur_year_avg  cur_year_avg_weighted  last_year_avg  \\\n",
       "57788            1           0.0                    0.0            0.0   \n",
       "57789            1           0.0                    0.0            0.0   \n",
       "57790            1           0.0                    0.0            0.0   \n",
       "57791            1           0.0                    0.0            0.0   \n",
       "57792            1           0.0                    0.0            0.0   \n",
       "\n",
       "       last_year_avg_weighted  two_year_ago_avg  two_year_ago_weighted  \\\n",
       "57788                     0.0               0.0                    0.0   \n",
       "57789                     0.0               0.0                    0.0   \n",
       "57790                     0.0               0.0                    0.0   \n",
       "57791                     0.0               0.0                    0.0   \n",
       "57792                     0.0               0.0                    0.0   \n",
       "\n",
       "       three_year_ago_avg  three_year_ago_weighted confederation   rank_date  \n",
       "57788                 0.0                      0.0      CONCACAF  2018-06-07  \n",
       "57789                 0.0                      0.0      CONCACAF  2018-06-07  \n",
       "57790                 0.0                      0.0           CAF  2018-06-07  \n",
       "57791                 0.0                      0.0           CAF  2018-06-07  \n",
       "57792                 0.0                      0.0           OFC  2018-06-07  "
      ]
     },
     "execution_count": 9,
     "metadata": {},
     "output_type": "execute_result"
    }
   ],
   "source": [
    "rankings.tail(5)"
   ]
  },
  {
   "cell_type": "code",
   "execution_count": 10,
   "metadata": {
    "collapsed": false
   },
   "outputs": [
    {
     "name": "stdout",
     "output_type": "stream",
     "text": [
      "(241, 216, 32)\n"
     ]
    },
    {
     "data": {
      "text/plain": [
       "{'Bosnia and Herzegovina',\n",
       " 'Brunei Darussalam',\n",
       " 'Cape Verde Islands',\n",
       " 'China PR',\n",
       " 'Chinese Taipei',\n",
       " \"C\\xc3\\xb4te d'Ivoire\",\n",
       " 'FYR Macedonia',\n",
       " 'IR Iran',\n",
       " 'Kyrgyz Republic',\n",
       " 'Myanmar',\n",
       " 'Netherlands Antilles',\n",
       " 'RCS',\n",
       " 'Republic of Ireland',\n",
       " 'Serbia and Montenegro',\n",
       " 'St Kitts and Nevis',\n",
       " 'St Lucia',\n",
       " 'St Vincent and the Grenadines',\n",
       " 'S\\xc3\\xa3o Tom\\xc3\\xa9 e Pr\\xc3\\xadncipe',\n",
       " 'Timor-Leste',\n",
       " 'US Virgin Islands',\n",
       " 'Zaire'}"
      ]
     },
     "execution_count": 10,
     "metadata": {},
     "output_type": "execute_result"
    }
   ],
   "source": [
    "# some cleaning needs to be done: some country names in different files are differnt\n",
    "print(matches.home_team.nunique(), rankings.country_full.nunique(), matches_2018.Team.nunique())\n",
    "set(rankings.country_full) - set(matches.home_team) "
   ]
  },
  {
   "cell_type": "code",
   "execution_count": 11,
   "metadata": {
    "collapsed": true
   },
   "outputs": [],
   "source": [
    "# clean up data\n",
    "rankings = rankings.replace({'IR Iran': 'Iran', \n",
    "                             'China PR': 'China'})\n",
    "matches_2018.dropna(how='all', inplace=True)\n",
    "matches_2018 = matches_2018.replace({'Columbia': 'Colombia',\n",
    "                                     'Costarica': 'Costa Rica',\n",
    "                                     'IRAN': 'Iran',\n",
    "                                     'Porugal': 'Portugal',\n",
    "                                     'Korea': 'Korea Republic'})"
   ]
  },
  {
   "cell_type": "code",
   "execution_count": 12,
   "metadata": {
    "collapsed": false
   },
   "outputs": [
    {
     "name": "stdout",
     "output_type": "stream",
     "text": [
      "set([])\n",
      "set([])\n"
     ]
    }
   ],
   "source": [
    "print(set(matches_2018.Team) - set(matches.home_team) )\n",
    "print(set(matches_2018.Team) - set(rankings.country_full))"
   ]
  },
  {
   "cell_type": "code",
   "execution_count": 13,
   "metadata": {
    "collapsed": true
   },
   "outputs": [],
   "source": [
    "gdp = gdp.replace({'Russian Federation': 'Russia',\n",
    "                   'United Kingdom': 'England',\n",
    "                   'Congo': 'Congo DR',\n",
    "                   'Republic of Korea': 'Korea Republic',\n",
    "                   'Republic of Moldova': 'Moldova',\n",
    "                   'Iran (Islamic Republic of)': 'Iran'})\n",
    "\n",
    "gdp = gdp.drop('CountryID', axis=1).set_index('Country').stack()\n",
    "\n",
    "gdp = gdp.reset_index().rename(columns={'level_1': 'year', 0: 'gdppc'})\n",
    "\n",
    "odds = odds.replace({'South Korea': 'Korea Republic'})"
   ]
  },
  {
   "cell_type": "code",
   "execution_count": 14,
   "metadata": {
    "collapsed": false
   },
   "outputs": [],
   "source": [
    "matches_2018.set_index('Team', inplace=True)"
   ]
  },
  {
   "cell_type": "markdown",
   "metadata": {},
   "source": [
    "## Feature engineering\n",
    "What to predict: goal difference between two teams given teams' historical data\n",
    "- Team level features:\n",
    "    - weighted avg ranking in past x years \n",
    "    - home advantage - host or not\n",
    "    - home advantage - same continent as hosting country or not\n",
    "    - confederation\n",
    "    - history with the opponent\n",
    "    - Outcome of previous 3 matches\n",
    "    - GDP per capita\n",
    "    - "
   ]
  },
  {
   "cell_type": "markdown",
   "metadata": {},
   "source": [
    "### create outcome variable: \n",
    "- 1: home team won \n",
    "- 0: draw \n",
    "- -1: away team won"
   ]
  },
  {
   "cell_type": "code",
   "execution_count": 15,
   "metadata": {
    "collapsed": true
   },
   "outputs": [],
   "source": [
    "matches['result'] = matches.home_score - matches.away_score\n",
    "matches.result = matches.result.clip(upper=1, lower=-1)"
   ]
  },
  {
   "cell_type": "code",
   "execution_count": 16,
   "metadata": {
    "collapsed": false
   },
   "outputs": [
    {
     "data": {
      "text/plain": [
       " 1    18969\n",
       "-1    10991\n",
       " 0     9048\n",
       "Name: result, dtype: int64"
      ]
     },
     "execution_count": 16,
     "metadata": {},
     "output_type": "execute_result"
    }
   ],
   "source": [
    "matches.result.value_counts()"
   ]
  },
  {
   "cell_type": "markdown",
   "metadata": {},
   "source": [
    "### features from historical matches"
   ]
  },
  {
   "cell_type": "code",
   "execution_count": 17,
   "metadata": {
    "collapsed": true
   },
   "outputs": [],
   "source": [
    "# remove friendly matches and use only data starting from 1996\n",
    "matches = matches.set_index('date')\n",
    "matches.index = pd.to_datetime(matches.index)\n",
    "matches = matches[matches.tournament != 'Friendly']\n",
    "matches = matches['1996':]"
   ]
  },
  {
   "cell_type": "code",
   "execution_count": 18,
   "metadata": {
    "collapsed": false
   },
   "outputs": [
    {
     "data": {
      "text/plain": [
       "(12414, 9)"
      ]
     },
     "execution_count": 18,
     "metadata": {},
     "output_type": "execute_result"
    }
   ],
   "source": [
    "matches.shape"
   ]
  },
  {
   "cell_type": "markdown",
   "metadata": {},
   "source": [
    "#### home advantage"
   ]
  },
  {
   "cell_type": "code",
   "execution_count": 19,
   "metadata": {
    "collapsed": true
   },
   "outputs": [],
   "source": [
    "matches['home_advantage'] = matches.country == matches.home_team"
   ]
  },
  {
   "cell_type": "markdown",
   "metadata": {},
   "source": [
    "#### historical records with this opponent\n",
    "for each home-away pair, calculate the win/draw count and rate    \n",
    "All historical data is used. Time is not considered here. __NOTE:__ This introduces data leakage because stats are calculated using all data.. should fix later if have time"
   ]
  },
  {
   "cell_type": "code",
   "execution_count": 20,
   "metadata": {
    "collapsed": false
   },
   "outputs": [
    {
     "data": {
      "text/html": [
       "<div>\n",
       "<table border=\"1\" class=\"dataframe\">\n",
       "  <thead>\n",
       "    <tr style=\"text-align: right;\">\n",
       "      <th></th>\n",
       "      <th>home_team</th>\n",
       "      <th>away_team</th>\n",
       "      <th>total_away_score</th>\n",
       "      <th>total_home_score</th>\n",
       "      <th>total_count</th>\n",
       "      <th>home_win_count</th>\n",
       "      <th>home_draw_count</th>\n",
       "    </tr>\n",
       "  </thead>\n",
       "  <tbody>\n",
       "    <tr>\n",
       "      <th>0</th>\n",
       "      <td>Afghanistan</td>\n",
       "      <td>Bangladesh</td>\n",
       "      <td>0</td>\n",
       "      <td>4</td>\n",
       "      <td>1</td>\n",
       "      <td>1</td>\n",
       "      <td>0</td>\n",
       "    </tr>\n",
       "    <tr>\n",
       "      <th>1</th>\n",
       "      <td>Afghanistan</td>\n",
       "      <td>Bhutan</td>\n",
       "      <td>3</td>\n",
       "      <td>6</td>\n",
       "      <td>3</td>\n",
       "      <td>2</td>\n",
       "      <td>0</td>\n",
       "    </tr>\n",
       "    <tr>\n",
       "      <th>2</th>\n",
       "      <td>Afghanistan</td>\n",
       "      <td>Cambodia</td>\n",
       "      <td>1</td>\n",
       "      <td>5</td>\n",
       "      <td>2</td>\n",
       "      <td>2</td>\n",
       "      <td>0</td>\n",
       "    </tr>\n",
       "    <tr>\n",
       "      <th>3</th>\n",
       "      <td>Afghanistan</td>\n",
       "      <td>India</td>\n",
       "      <td>4</td>\n",
       "      <td>0</td>\n",
       "      <td>1</td>\n",
       "      <td>0</td>\n",
       "      <td>0</td>\n",
       "    </tr>\n",
       "    <tr>\n",
       "      <th>4</th>\n",
       "      <td>Afghanistan</td>\n",
       "      <td>Japan</td>\n",
       "      <td>6</td>\n",
       "      <td>0</td>\n",
       "      <td>1</td>\n",
       "      <td>0</td>\n",
       "      <td>0</td>\n",
       "    </tr>\n",
       "  </tbody>\n",
       "</table>\n",
       "</div>"
      ],
      "text/plain": [
       "     home_team   away_team  total_away_score  total_home_score  total_count  \\\n",
       "0  Afghanistan  Bangladesh                 0                 4            1   \n",
       "1  Afghanistan      Bhutan                 3                 6            3   \n",
       "2  Afghanistan    Cambodia                 1                 5            2   \n",
       "3  Afghanistan       India                 4                 0            1   \n",
       "4  Afghanistan       Japan                 6                 0            1   \n",
       "\n",
       "   home_win_count  home_draw_count  \n",
       "0               1                0  \n",
       "1               2                0  \n",
       "2               2                0  \n",
       "3               0                0  \n",
       "4               0                0  "
      ]
     },
     "execution_count": 20,
     "metadata": {},
     "output_type": "execute_result"
    }
   ],
   "source": [
    "def get_win_count(x): \n",
    "    return (x==1).sum()\n",
    "\n",
    "def get_draw_count(x): \n",
    "    return (x==0).sum()\n",
    "\n",
    "historical_stats_w_oppo = matches.groupby(['home_team', 'away_team']).agg({'home_score': 'sum', 'away_score': 'sum', \n",
    "                                                 'result': ['count', get_win_count, get_draw_count]}).reset_index()\n",
    "historical_stats_w_oppo.columns = ['home_team', 'away_team', 'total_away_score', 'total_home_score', \n",
    "                                   'total_count', 'home_win_count', 'home_draw_count']\n",
    "\n",
    "# historical_stats_w_oppo.columns = ['_'.join(c) for c in historical_stats_w_oppo.columns]\n",
    "\n",
    "historical_stats_w_oppo.head()"
   ]
  },
  {
   "cell_type": "code",
   "execution_count": 21,
   "metadata": {
    "collapsed": false
   },
   "outputs": [],
   "source": [
    "# matches[(matches.home_team == 'Australia') & (matches.away_team == 'France')]"
   ]
  },
  {
   "cell_type": "code",
   "execution_count": 22,
   "metadata": {
    "collapsed": false
   },
   "outputs": [
    {
     "data": {
      "text/html": [
       "<div>\n",
       "<table border=\"1\" class=\"dataframe\">\n",
       "  <thead>\n",
       "    <tr style=\"text-align: right;\">\n",
       "      <th></th>\n",
       "      <th>home_team</th>\n",
       "      <th>away_team</th>\n",
       "      <th>total_away_score</th>\n",
       "      <th>total_home_score</th>\n",
       "      <th>total_count</th>\n",
       "      <th>home_win_count</th>\n",
       "      <th>home_draw_count</th>\n",
       "    </tr>\n",
       "  </thead>\n",
       "  <tbody>\n",
       "    <tr>\n",
       "      <th>279</th>\n",
       "      <td>Australia</td>\n",
       "      <td>France</td>\n",
       "      <td>0</td>\n",
       "      <td>1</td>\n",
       "      <td>1</td>\n",
       "      <td>1</td>\n",
       "      <td>0</td>\n",
       "    </tr>\n",
       "  </tbody>\n",
       "</table>\n",
       "</div>"
      ],
      "text/plain": [
       "     home_team away_team  total_away_score  total_home_score  total_count  \\\n",
       "279  Australia    France                 0                 1            1   \n",
       "\n",
       "     home_win_count  home_draw_count  \n",
       "279               1                0  "
      ]
     },
     "execution_count": 22,
     "metadata": {},
     "output_type": "execute_result"
    }
   ],
   "source": [
    "historical_stats_w_oppo[(historical_stats_w_oppo.home_team == 'Australia') & (historical_stats_w_oppo.away_team == 'France')]"
   ]
  },
  {
   "cell_type": "code",
   "execution_count": 23,
   "metadata": {
    "collapsed": true
   },
   "outputs": [],
   "source": [
    "hist_stats_w_oppo_agg = historical_stats_w_oppo.copy()\n",
    "\n"
   ]
  },
  {
   "cell_type": "code",
   "execution_count": 24,
   "metadata": {
    "collapsed": true
   },
   "outputs": [],
   "source": [
    "hist_stats_w_oppo_agg = historical_stats_w_oppo.copy()\n",
    "\n",
    "# flip home team, away team so that they are in alphabetical order \n",
    "for i in hist_stats_w_oppo_agg.index:\n",
    "    if hist_stats_w_oppo_agg.loc[i, 'home_team'] < hist_stats_w_oppo_agg.loc[i, 'away_team']: \n",
    "        hist_stats_w_oppo_agg.loc[i, 'home_team'], hist_stats_w_oppo_agg.loc[i, 'away_team'] = hist_stats_w_oppo_agg.loc[i, 'away_team'], hist_stats_w_oppo_agg.loc[i, 'home_team']\n",
    "        hist_stats_w_oppo_agg.loc[i, 'total_home_score'], hist_stats_w_oppo_agg.loc[i, 'total_away_score'] = hist_stats_w_oppo_agg.loc[i, 'total_away_score'], hist_stats_w_oppo_agg.loc[i, 'total_home_score']\n",
    "        hist_stats_w_oppo_agg.loc[i, 'home_win_count'] = hist_stats_w_oppo_agg.loc[i, 'total_count'] \\\n",
    "                - hist_stats_w_oppo_agg.loc[i, 'home_win_count'] - hist_stats_w_oppo_agg.loc[i, 'home_draw_count']\n",
    "\n",
    "# then consolidate same home/away pairs\n",
    "hist_stats_w_oppo_agg = hist_stats_w_oppo_agg.groupby(['home_team', 'away_team']).sum().reset_index()"
   ]
  },
  {
   "cell_type": "code",
   "execution_count": 25,
   "metadata": {
    "collapsed": false
   },
   "outputs": [],
   "source": [
    "# hist_stats_w_oppo_agg[(hist_stats_w_oppo_agg.home_team == 'France') & (hist_stats_w_oppo_agg.away_team == 'Australia')]"
   ]
  },
  {
   "cell_type": "code",
   "execution_count": 26,
   "metadata": {
    "collapsed": false
   },
   "outputs": [],
   "source": [
    "# hist_stats_w_oppo_agg[(hist_stats_w_oppo_agg.home_team == 'Australia') & (hist_stats_w_oppo_agg.away_team == 'France')]"
   ]
  },
  {
   "cell_type": "code",
   "execution_count": 27,
   "metadata": {
    "collapsed": false
   },
   "outputs": [],
   "source": [
    "# now duplicate and flip home away for easier joining later\n",
    "hist_stats_w_oppo_agg2 = hist_stats_w_oppo_agg.copy()\n",
    "hist_stats_w_oppo_agg2.columns = ['away_team', 'home_team', 'total_home_score', 'total_away_score', \n",
    "                                  'total_count', 'home_win_count', 'home_draw_count']\n",
    "hist_stats_w_oppo_agg2.home_win_count = hist_stats_w_oppo_agg2.total_count - hist_stats_w_oppo_agg2.home_draw_count\\\n",
    "                                        - hist_stats_w_oppo_agg2.home_win_count\n",
    "\n",
    "hist_stats_w_oppo_agg = pd.concat([hist_stats_w_oppo_agg, hist_stats_w_oppo_agg2], axis=0)\n",
    "\n",
    "hist_stats_w_oppo_agg['home_win_rate'] = hist_stats_w_oppo_agg.home_win_count * 1.0 / hist_stats_w_oppo_agg.total_count\n",
    "hist_stats_w_oppo_agg['home_draw_rate'] = hist_stats_w_oppo_agg.home_draw_count * 1.0 / hist_stats_w_oppo_agg.total_count"
   ]
  },
  {
   "cell_type": "code",
   "execution_count": 28,
   "metadata": {
    "collapsed": true
   },
   "outputs": [],
   "source": [
    "hist_stats_w_oppo_agg['total_score_diff'] = hist_stats_w_oppo_agg.total_home_score - hist_stats_w_oppo_agg.total_away_score"
   ]
  },
  {
   "cell_type": "code",
   "execution_count": 29,
   "metadata": {
    "collapsed": false
   },
   "outputs": [
    {
     "data": {
      "text/html": [
       "<div>\n",
       "<table border=\"1\" class=\"dataframe\">\n",
       "  <thead>\n",
       "    <tr style=\"text-align: right;\">\n",
       "      <th></th>\n",
       "      <th>away_team</th>\n",
       "      <th>home_draw_count</th>\n",
       "      <th>home_team</th>\n",
       "      <th>home_win_count</th>\n",
       "      <th>total_away_score</th>\n",
       "      <th>total_count</th>\n",
       "      <th>total_home_score</th>\n",
       "      <th>home_win_rate</th>\n",
       "      <th>home_draw_rate</th>\n",
       "      <th>total_score_diff</th>\n",
       "    </tr>\n",
       "  </thead>\n",
       "  <tbody>\n",
       "    <tr>\n",
       "      <th>0</th>\n",
       "      <td>Albania</td>\n",
       "      <td>0</td>\n",
       "      <td>Andorra</td>\n",
       "      <td>0</td>\n",
       "      <td>3</td>\n",
       "      <td>1</td>\n",
       "      <td>0</td>\n",
       "      <td>0.00</td>\n",
       "      <td>0.00</td>\n",
       "      <td>-3</td>\n",
       "    </tr>\n",
       "    <tr>\n",
       "      <th>1</th>\n",
       "      <td>Algeria</td>\n",
       "      <td>3</td>\n",
       "      <td>Angola</td>\n",
       "      <td>1</td>\n",
       "      <td>6</td>\n",
       "      <td>5</td>\n",
       "      <td>6</td>\n",
       "      <td>0.20</td>\n",
       "      <td>0.60</td>\n",
       "      <td>0</td>\n",
       "    </tr>\n",
       "    <tr>\n",
       "      <th>2</th>\n",
       "      <td>Anguilla</td>\n",
       "      <td>0</td>\n",
       "      <td>Antigua and Barbuda</td>\n",
       "      <td>1</td>\n",
       "      <td>3</td>\n",
       "      <td>1</td>\n",
       "      <td>5</td>\n",
       "      <td>1.00</td>\n",
       "      <td>0.00</td>\n",
       "      <td>2</td>\n",
       "    </tr>\n",
       "    <tr>\n",
       "      <th>3</th>\n",
       "      <td>Albania</td>\n",
       "      <td>1</td>\n",
       "      <td>Armenia</td>\n",
       "      <td>1</td>\n",
       "      <td>6</td>\n",
       "      <td>4</td>\n",
       "      <td>5</td>\n",
       "      <td>0.25</td>\n",
       "      <td>0.25</td>\n",
       "      <td>-1</td>\n",
       "    </tr>\n",
       "    <tr>\n",
       "      <th>4</th>\n",
       "      <td>Andorra</td>\n",
       "      <td>0</td>\n",
       "      <td>Armenia</td>\n",
       "      <td>6</td>\n",
       "      <td>2</td>\n",
       "      <td>6</td>\n",
       "      <td>18</td>\n",
       "      <td>1.00</td>\n",
       "      <td>0.00</td>\n",
       "      <td>16</td>\n",
       "    </tr>\n",
       "  </tbody>\n",
       "</table>\n",
       "</div>"
      ],
      "text/plain": [
       "  away_team  home_draw_count            home_team  home_win_count  \\\n",
       "0   Albania                0              Andorra               0   \n",
       "1   Algeria                3               Angola               1   \n",
       "2  Anguilla                0  Antigua and Barbuda               1   \n",
       "3   Albania                1              Armenia               1   \n",
       "4   Andorra                0              Armenia               6   \n",
       "\n",
       "   total_away_score  total_count  total_home_score  home_win_rate  \\\n",
       "0                 3            1                 0           0.00   \n",
       "1                 6            5                 6           0.20   \n",
       "2                 3            1                 5           1.00   \n",
       "3                 6            4                 5           0.25   \n",
       "4                 2            6                18           1.00   \n",
       "\n",
       "   home_draw_rate  total_score_diff  \n",
       "0            0.00                -3  \n",
       "1            0.60                 0  \n",
       "2            0.00                 2  \n",
       "3            0.25                -1  \n",
       "4            0.00                16  "
      ]
     },
     "execution_count": 29,
     "metadata": {},
     "output_type": "execute_result"
    }
   ],
   "source": [
    "hist_stats_w_oppo_agg.head()"
   ]
  },
  {
   "cell_type": "code",
   "execution_count": 30,
   "metadata": {
    "collapsed": true
   },
   "outputs": [],
   "source": [
    "X = pd.merge(matches, hist_stats_w_oppo_agg, on=['home_team', 'away_team'], how='left')"
   ]
  },
  {
   "cell_type": "markdown",
   "metadata": {},
   "source": [
    "### ranking features\n",
    "use ranking difference between home and away team"
   ]
  },
  {
   "cell_type": "code",
   "execution_count": 31,
   "metadata": {
    "collapsed": true
   },
   "outputs": [],
   "source": [
    "# ranking is monthly. join with matches on year-month\n",
    "rankings['year_month'] = rankings.rank_date.apply(lambda x: x[:-3])\n",
    "X['year_month'] = matches.index.map(lambda x: pd.datetime.strftime(x, '%Y-%m'))"
   ]
  },
  {
   "cell_type": "code",
   "execution_count": 32,
   "metadata": {
    "collapsed": false
   },
   "outputs": [],
   "source": [
    "X = pd.merge(rankings, X, \n",
    "             left_on=['country_full', 'year_month'],\n",
    "             right_on=['home_team', 'year_month'])\n",
    "\n",
    "X = pd.merge(rankings, X,\n",
    "             left_on=['country_full', 'year_month'],\n",
    "             right_on=['away_team', 'year_month'],\n",
    "             suffixes=('_away', '_home'))"
   ]
  },
  {
   "cell_type": "code",
   "execution_count": 33,
   "metadata": {
    "collapsed": false
   },
   "outputs": [],
   "source": [
    "# create diff features\n",
    "for c in [u'rank_away', \n",
    "       u'total_points_away', u'previous_points_away', u'rank_change_away',\n",
    "       u'cur_year_avg_away', u'cur_year_avg_weighted_away',\n",
    "       u'last_year_avg_away', u'last_year_avg_weighted_away',\n",
    "       u'two_year_ago_avg_away', u'two_year_ago_weighted_away',\n",
    "       u'three_year_ago_avg_away', u'three_year_ago_weighted_away']:\n",
    "    feat_name = c[:-5]\n",
    "    X[feat_name + '_diff'] = X[feat_name + '_home'] - X[c]"
   ]
  },
  {
   "cell_type": "markdown",
   "metadata": {},
   "source": [
    "### GDP features"
   ]
  },
  {
   "cell_type": "code",
   "execution_count": 34,
   "metadata": {
    "collapsed": true
   },
   "outputs": [],
   "source": [
    "X['year'] = X.year_month.apply(lambda x: int(x[:-3]))"
   ]
  },
  {
   "cell_type": "code",
   "execution_count": 35,
   "metadata": {
    "collapsed": true
   },
   "outputs": [],
   "source": [
    "X = pd.merge(X, gdp, left_on=['home_team', 'year'], right_on=['Country', 'year'], how='left')\n",
    "X = pd.merge(X, gdp, left_on=['away_team', 'year'], right_on=['Country', 'year'], how='left',\n",
    "             suffixes=('_home', '_away'))"
   ]
  },
  {
   "cell_type": "markdown",
   "metadata": {},
   "source": [
    "### Odds features"
   ]
  },
  {
   "cell_type": "code",
   "execution_count": 36,
   "metadata": {
    "collapsed": false
   },
   "outputs": [
    {
     "data": {
      "text/html": [
       "<div>\n",
       "<table border=\"1\" class=\"dataframe\">\n",
       "  <thead>\n",
       "    <tr style=\"text-align: right;\">\n",
       "      <th></th>\n",
       "      <th>away</th>\n",
       "      <th>cross</th>\n",
       "      <th>home</th>\n",
       "      <th>ones</th>\n",
       "      <th>twos</th>\n",
       "      <th>year</th>\n",
       "    </tr>\n",
       "  </thead>\n",
       "  <tbody>\n",
       "    <tr>\n",
       "      <th>0</th>\n",
       "      <td>Argentina</td>\n",
       "      <td>3.29</td>\n",
       "      <td>Germany</td>\n",
       "      <td>2.36</td>\n",
       "      <td>3.35</td>\n",
       "      <td>2014</td>\n",
       "    </tr>\n",
       "    <tr>\n",
       "      <th>1</th>\n",
       "      <td>Netherlands</td>\n",
       "      <td>3.71</td>\n",
       "      <td>Brazil</td>\n",
       "      <td>2.16</td>\n",
       "      <td>3.36</td>\n",
       "      <td>2014</td>\n",
       "    </tr>\n",
       "    <tr>\n",
       "      <th>2</th>\n",
       "      <td>Argentina</td>\n",
       "      <td>3.23</td>\n",
       "      <td>Netherlands</td>\n",
       "      <td>3.07</td>\n",
       "      <td>2.54</td>\n",
       "      <td>2014</td>\n",
       "    </tr>\n",
       "    <tr>\n",
       "      <th>3</th>\n",
       "      <td>Germany</td>\n",
       "      <td>3.21</td>\n",
       "      <td>Brazil</td>\n",
       "      <td>2.65</td>\n",
       "      <td>2.93</td>\n",
       "      <td>2014</td>\n",
       "    </tr>\n",
       "    <tr>\n",
       "      <th>4</th>\n",
       "      <td>Costa Rica</td>\n",
       "      <td>4.16</td>\n",
       "      <td>Netherlands</td>\n",
       "      <td>1.53</td>\n",
       "      <td>7.15</td>\n",
       "      <td>2014</td>\n",
       "    </tr>\n",
       "  </tbody>\n",
       "</table>\n",
       "</div>"
      ],
      "text/plain": [
       "          away  cross         home  ones  twos  year\n",
       "0    Argentina   3.29      Germany  2.36  3.35  2014\n",
       "1  Netherlands   3.71       Brazil  2.16  3.36  2014\n",
       "2    Argentina   3.23  Netherlands  3.07  2.54  2014\n",
       "3      Germany   3.21       Brazil  2.65  2.93  2014\n",
       "4   Costa Rica   4.16  Netherlands  1.53  7.15  2014"
      ]
     },
     "execution_count": 36,
     "metadata": {},
     "output_type": "execute_result"
    }
   ],
   "source": [
    "# just merge with odds data and see...\n",
    "odds.head()"
   ]
  },
  {
   "cell_type": "code",
   "execution_count": 37,
   "metadata": {
    "collapsed": true
   },
   "outputs": [],
   "source": [
    "# flip home and away for easy joining\n",
    "odds2 = odds.copy()\n",
    "odds2.columns = ['home', 'cross', 'away', 'twos', 'ones', 'year']\n",
    "odds = pd.concat([odds, odds2], axis=0)"
   ]
  },
  {
   "cell_type": "code",
   "execution_count": 38,
   "metadata": {
    "collapsed": true
   },
   "outputs": [],
   "source": [
    "X = pd.merge(X, odds, left_on=['home_team', 'away_team', 'year'],\n",
    "                  right_on=['home', 'away', 'year'], how='left')"
   ]
  },
  {
   "cell_type": "code",
   "execution_count": 39,
   "metadata": {
    "collapsed": false
   },
   "outputs": [
    {
     "data": {
      "text/plain": [
       "Index([                   u'rank_away',            u'country_full_away',\n",
       "                  u'country_abrv_away',            u'total_points_away',\n",
       "               u'previous_points_away',             u'rank_change_away',\n",
       "                  u'cur_year_avg_away',   u'cur_year_avg_weighted_away',\n",
       "                 u'last_year_avg_away',  u'last_year_avg_weighted_away',\n",
       "              u'two_year_ago_avg_away',   u'two_year_ago_weighted_away',\n",
       "            u'three_year_ago_avg_away', u'three_year_ago_weighted_away',\n",
       "                 u'confederation_away',               u'rank_date_away',\n",
       "                         u'year_month',                    u'rank_home',\n",
       "                  u'country_full_home',            u'country_abrv_home',\n",
       "                  u'total_points_home',         u'previous_points_home',\n",
       "                   u'rank_change_home',            u'cur_year_avg_home',\n",
       "         u'cur_year_avg_weighted_home',           u'last_year_avg_home',\n",
       "        u'last_year_avg_weighted_home',        u'two_year_ago_avg_home',\n",
       "         u'two_year_ago_weighted_home',      u'three_year_ago_avg_home',\n",
       "       u'three_year_ago_weighted_home',           u'confederation_home',\n",
       "                     u'rank_date_home',                    u'home_team',\n",
       "                          u'away_team',                   u'home_score',\n",
       "                         u'away_score',                   u'tournament',\n",
       "                               u'city',                      u'country',\n",
       "                            u'neutral',                       u'result',\n",
       "                     u'home_advantage',              u'home_draw_count',\n",
       "                     u'home_win_count',             u'total_away_score',\n",
       "                        u'total_count',             u'total_home_score',\n",
       "                      u'home_win_rate',               u'home_draw_rate',\n",
       "                   u'total_score_diff',                    u'rank_diff',\n",
       "                  u'total_points_diff',         u'previous_points_diff',\n",
       "                   u'rank_change_diff',            u'cur_year_avg_diff',\n",
       "         u'cur_year_avg_weighted_diff',           u'last_year_avg_diff',\n",
       "        u'last_year_avg_weighted_diff',        u'two_year_ago_avg_diff',\n",
       "         u'two_year_ago_weighted_diff',      u'three_year_ago_avg_diff',\n",
       "       u'three_year_ago_weighted_diff',                         u'year',\n",
       "                       u'Country_home',                   u'gdppc_home',\n",
       "                       u'Country_away',                   u'gdppc_away',\n",
       "                               u'away',                        u'cross',\n",
       "                               u'home',                         u'ones',\n",
       "                               u'twos'],\n",
       "      dtype='object')"
      ]
     },
     "execution_count": 39,
     "metadata": {},
     "output_type": "execute_result"
    }
   ],
   "source": [
    "X.columns"
   ]
  },
  {
   "cell_type": "markdown",
   "metadata": {},
   "source": [
    "## Model"
   ]
  },
  {
   "cell_type": "code",
   "execution_count": 40,
   "metadata": {
    "collapsed": false
   },
   "outputs": [],
   "source": [
    "from sklearn.ensemble import RandomForestClassifier\n",
    "from sklearn.metrics import accuracy_score, confusion_matrix, roc_auc_score\n",
    "from sklearn.model_selection import train_test_split, GridSearchCV"
   ]
  },
  {
   "cell_type": "code",
   "execution_count": 60,
   "metadata": {
    "collapsed": false
   },
   "outputs": [
    {
     "data": {
      "text/plain": [
       "['rank_diff',\n",
       " u'total_points_diff',\n",
       " u'previous_points_diff',\n",
       " u'cur_year_avg_diff',\n",
       " u'cur_year_avg_weighted_diff',\n",
       " u'last_year_avg_diff',\n",
       " u'last_year_avg_weighted_diff',\n",
       " u'two_year_ago_avg_diff',\n",
       " u'two_year_ago_weighted_diff',\n",
       " u'three_year_ago_avg_diff',\n",
       " u'three_year_ago_weighted_diff',\n",
       " u'neutral',\n",
       " 'home_advantage']"
      ]
     },
     "execution_count": 60,
     "metadata": {},
     "output_type": "execute_result"
    }
   ],
   "source": [
    "features = ['rank_diff',\n",
    " u'total_points_diff',\n",
    " u'previous_points_diff',\n",
    "#  u'rank_change_diff',\n",
    " u'cur_year_avg_diff',\n",
    " u'cur_year_avg_weighted_diff',\n",
    " u'last_year_avg_diff',\n",
    " u'last_year_avg_weighted_diff',\n",
    " u'two_year_ago_avg_diff',\n",
    " u'two_year_ago_weighted_diff',\n",
    " u'three_year_ago_avg_diff',\n",
    " u'three_year_ago_weighted_diff',\n",
    " u'neutral', \n",
    "#                                                      'gdppc_home', 'gdppc_away', \n",
    "#                                                      'confederation_home', 'confederation_away',\n",
    "                                                     'home_advantage',\n",
    "#                                                      'cross', 'ones', 'twos', \n",
    "#                                                      'total_away_score', 'total_home_score', \n",
    "# 'total_score_diff',\n",
    "# 'home_win_rate', 'home_draw_rate'\n",
    "           ]\n",
    "features"
   ]
  },
  {
   "cell_type": "code",
   "execution_count": 63,
   "metadata": {
    "collapsed": false
   },
   "outputs": [
    {
     "data": {
      "text/plain": [
       "(10596, 13)"
      ]
     },
     "execution_count": 63,
     "metadata": {},
     "output_type": "execute_result"
    }
   ],
   "source": [
    "XX = X.fillna(0)\n",
    "y = X.result\n",
    "XX = pd.get_dummies(XX[features])\n",
    "XX.shape"
   ]
  },
  {
   "cell_type": "code",
   "execution_count": 64,
   "metadata": {
    "collapsed": false
   },
   "outputs": [
    {
     "data": {
      "text/plain": [
       "((7947, 13), (2649, 13))"
      ]
     },
     "execution_count": 64,
     "metadata": {},
     "output_type": "execute_result"
    }
   ],
   "source": [
    "X_train, X_test, y_train, y_test = train_test_split(XX, y)\n",
    "X_train.shape, X_test.shape"
   ]
  },
  {
   "cell_type": "code",
   "execution_count": 65,
   "metadata": {
    "collapsed": false
   },
   "outputs": [
    {
     "data": {
      "text/plain": [
       " 1    1307\n",
       "-1     731\n",
       " 0     611\n",
       "Name: result, dtype: int64"
      ]
     },
     "execution_count": 65,
     "metadata": {},
     "output_type": "execute_result"
    }
   ],
   "source": [
    "y_test.value_counts()"
   ]
  },
  {
   "cell_type": "code",
   "execution_count": 66,
   "metadata": {
    "collapsed": false
   },
   "outputs": [
    {
     "data": {
      "text/plain": [
       "0.60815402038505095"
      ]
     },
     "execution_count": 66,
     "metadata": {},
     "output_type": "execute_result"
    }
   ],
   "source": [
    "rf_model = RandomForestClassifier(n_estimators=200, max_depth=6)\n",
    "rf_model.fit(X_train, y_train)\n",
    "y_pred_prob = rf_model.predict_proba(X_test)\n",
    "y_pred = rf_model.predict(X_test)\n",
    "accuracy_score(y_test, y_pred)"
   ]
  },
  {
   "cell_type": "code",
   "execution_count": 67,
   "metadata": {
    "collapsed": true
   },
   "outputs": [],
   "source": [
    "# let's do some hyperparameter tuning\n",
    "param_grid = [{\"max_depth\": [5, 9, 11], \"n_estimators\": [200, 400, 600]}]\n",
    "\n",
    "rf_model = GridSearchCV(RandomForestClassifier(n_jobs=-1), param_grid, cv=5, scoring='accuracy')\n",
    "\n",
    "rf_model.fit(X_train, y_train)\n",
    "best_model = rf_model.best_estimator_"
   ]
  },
  {
   "cell_type": "code",
   "execution_count": 68,
   "metadata": {
    "collapsed": false
   },
   "outputs": [
    {
     "name": "stdout",
     "output_type": "stream",
     "text": [
      "Grid scores on development set:\n",
      "0.618 (+/-0.015) for {'n_estimators': 200, 'max_depth': 5}\n",
      "0.618 (+/-0.016) for {'n_estimators': 400, 'max_depth': 5}\n",
      "0.617 (+/-0.015) for {'n_estimators': 600, 'max_depth': 5}\n",
      "0.635 (+/-0.008) for {'n_estimators': 200, 'max_depth': 9}\n",
      "0.635 (+/-0.012) for {'n_estimators': 400, 'max_depth': 9}\n",
      "0.636 (+/-0.008) for {'n_estimators': 600, 'max_depth': 9}\n",
      "0.638 (+/-0.011) for {'n_estimators': 200, 'max_depth': 11}\n",
      "0.640 (+/-0.009) for {'n_estimators': 400, 'max_depth': 11}\n",
      "0.640 (+/-0.009) for {'n_estimators': 600, 'max_depth': 11}\n",
      "Best parameters set found on development set:\n",
      "{'n_estimators': 600, 'max_depth': 11}\n",
      "('Accuracy: ', 0.61381653454133633)\n",
      "Confusion matrix:\n",
      "[[ 504   18  209]\n",
      " [ 250   31  330]\n",
      " [ 202   14 1091]]\n"
     ]
    }
   ],
   "source": [
    "print(\"Grid scores on development set:\")\n",
    "means = rf_model.cv_results_['mean_test_score']\n",
    "stds = rf_model.cv_results_['std_test_score']\n",
    "for mean, std, params in zip(means, stds, rf_model.cv_results_['params']):\n",
    "    print(\"%0.3f (+/-%0.03f) for %r\"% (mean, std * 2, params))\n",
    "    \n",
    "print(\"Best parameters set found on development set:\")\n",
    "print(rf_model.best_params_)\n",
    "\n",
    "y_pred = best_model.predict(X_test)\n",
    "print(\"Accuracy: \", accuracy_score(y_test, y_pred,))\n",
    "print(\"Confusion matrix:\")\n",
    "print(confusion_matrix(y_test, y_pred))"
   ]
  },
  {
   "cell_type": "code",
   "execution_count": 69,
   "metadata": {
    "collapsed": false
   },
   "outputs": [
    {
     "data": {
      "text/plain": [
       "(array([-1,  0,  1]), array([ 956,   63, 1630]))"
      ]
     },
     "execution_count": 69,
     "metadata": {},
     "output_type": "execute_result"
    }
   ],
   "source": [
    "np.unique(y_pred, return_counts=True)"
   ]
  },
  {
   "cell_type": "markdown",
   "metadata": {},
   "source": [
    "### Try xgboost"
   ]
  },
  {
   "cell_type": "code",
   "execution_count": 49,
   "metadata": {
    "collapsed": false,
    "scrolled": true
   },
   "outputs": [],
   "source": [
    "import xgboost as xgb"
   ]
  },
  {
   "cell_type": "code",
   "execution_count": 50,
   "metadata": {
    "collapsed": true
   },
   "outputs": [],
   "source": [
    "# dtrain = xgb.DMatrix(train, label=label)\n"
   ]
  },
  {
   "cell_type": "markdown",
   "metadata": {},
   "source": [
    "## Simulations"
   ]
  },
  {
   "cell_type": "markdown",
   "metadata": {},
   "source": [
    "### group rounds\n",
    "- win - 3 points\n",
    "- draw - 1 point\n",
    "- lose - 0 point"
   ]
  },
  {
   "cell_type": "code",
   "execution_count": 70,
   "metadata": {
    "collapsed": true
   },
   "outputs": [],
   "source": [
    "# prepare features for the 2018 matches - get from latest ranking\n",
    "def get_features(country1, country2):\n",
    "    feats = [c[:-5] for c in features[:12]]\n",
    "    country1_feats = rankings[rankings.country_full == country1].iloc[-1, :][feats]\n",
    "    country2_feats = rankings[rankings.country_full == country2].iloc[-1, :][feats]\n",
    "#     print(country1_feats, country2_feats)\n",
    "    final_feats = country1_feats - country2_feats\n",
    "    final_feats.index = [i + '_diff' for i in final_feats.index]\n",
    "    final_feats = pd.DataFrame(final_feats).T\n",
    "    final_feats['home_team'] = country1\n",
    "    final_feats['away_team'] = country2\n",
    "    # add home information\n",
    "    final_feats['home_advantage'] = (final_feats.home_team == 'Russia')\n",
    "    final_feats['neutral'] = (final_feats.home_team != 'Russia') & (final_feats.away_team != 'Russia')\n",
    "    final_feats = pd.merge(final_feats, hist_stats_w_oppo_agg, on=['home_team', 'away_team'], how='left')\n",
    "\n",
    "    \n",
    "#     final_feats['total_home_score'] = hist_stats_w_oppo_agg[(hist_stats_w_oppo_agg.home_team == country1) \n",
    "#                                                 & (hist_stats_w_oppo_agg.away_team == country2)].total_home_score.values[0]\n",
    "#     final_feats['home_win_rate'] = hist_stats_w_oppo_agg[(hist_stats_w_oppo_agg.home_team == country1) \n",
    "#                                                 & (hist_stats_w_oppo_agg.away_team == country2)].home_win_rate.values[0]\n",
    "#     final_feats['total_away_score'] = hist_stats_w_oppo_agg[(hist_stats_w_oppo_agg.home_team == country1) \n",
    "#                                                 & (hist_stats_w_oppo_agg.away_team == country2)].total_away_score.values[0]\n",
    "#     final_feats['home_draw_rate'] = hist_stats_w_oppo_agg[(hist_stats_w_oppo_agg.home_team == country1) \n",
    "#                                                 & (hist_stats_w_oppo_agg.away_team == country2)].home_draw_rate.values[0]\n",
    "    \n",
    "        \n",
    "    final_feats.fillna(0, inplace=True)\n",
    "    return final_feats[features]"
   ]
  },
  {
   "cell_type": "code",
   "execution_count": 71,
   "metadata": {
    "collapsed": false
   },
   "outputs": [
    {
     "data": {
      "text/html": [
       "<div>\n",
       "<table border=\"1\" class=\"dataframe\">\n",
       "  <thead>\n",
       "    <tr style=\"text-align: right;\">\n",
       "      <th></th>\n",
       "      <th>rank_diff</th>\n",
       "      <th>total_points_diff</th>\n",
       "      <th>previous_points_diff</th>\n",
       "      <th>cur_year_avg_diff</th>\n",
       "      <th>cur_year_avg_weighted_diff</th>\n",
       "      <th>last_year_avg_diff</th>\n",
       "      <th>last_year_avg_weighted_diff</th>\n",
       "      <th>two_year_ago_avg_diff</th>\n",
       "      <th>two_year_ago_weighted_diff</th>\n",
       "      <th>three_year_ago_avg_diff</th>\n",
       "      <th>three_year_ago_weighted_diff</th>\n",
       "      <th>neutral</th>\n",
       "      <th>home_advantage</th>\n",
       "    </tr>\n",
       "  </thead>\n",
       "  <tbody>\n",
       "    <tr>\n",
       "      <th>0</th>\n",
       "      <td>-32</td>\n",
       "      <td>679.82</td>\n",
       "      <td>652</td>\n",
       "      <td>141.83</td>\n",
       "      <td>141.83</td>\n",
       "      <td>675.24</td>\n",
       "      <td>337.62</td>\n",
       "      <td>254.97</td>\n",
       "      <td>76.49</td>\n",
       "      <td>619.4</td>\n",
       "      <td>123.88</td>\n",
       "      <td>True</td>\n",
       "      <td>False</td>\n",
       "    </tr>\n",
       "  </tbody>\n",
       "</table>\n",
       "</div>"
      ],
      "text/plain": [
       "   rank_diff  total_points_diff  previous_points_diff  cur_year_avg_diff  \\\n",
       "0        -32             679.82                   652             141.83   \n",
       "\n",
       "   cur_year_avg_weighted_diff  last_year_avg_diff  \\\n",
       "0                      141.83              675.24   \n",
       "\n",
       "   last_year_avg_weighted_diff  two_year_ago_avg_diff  \\\n",
       "0                       337.62                 254.97   \n",
       "\n",
       "   two_year_ago_weighted_diff  three_year_ago_avg_diff  \\\n",
       "0                       76.49                    619.4   \n",
       "\n",
       "   three_year_ago_weighted_diff neutral home_advantage  \n",
       "0                        123.88    True          False  "
      ]
     },
     "execution_count": 71,
     "metadata": {},
     "output_type": "execute_result"
    }
   ],
   "source": [
    "get_features('Brazil', 'Serbia')#.values.reshape(1, -1).shape"
   ]
  },
  {
   "cell_type": "code",
   "execution_count": 72,
   "metadata": {
    "collapsed": false
   },
   "outputs": [
    {
     "data": {
      "text/plain": [
       "array([[ 0.09040994,  0.23173606,  0.677854  ]])"
      ]
     },
     "execution_count": 72,
     "metadata": {},
     "output_type": "execute_result"
    }
   ],
   "source": [
    "best_model.predict_proba(get_features('Brazil', 'Serbia'))"
   ]
  },
  {
   "cell_type": "code",
   "execution_count": 73,
   "metadata": {
    "collapsed": false
   },
   "outputs": [
    {
     "data": {
      "text/html": [
       "<div>\n",
       "<table border=\"1\" class=\"dataframe\">\n",
       "  <thead>\n",
       "    <tr style=\"text-align: right;\">\n",
       "      <th></th>\n",
       "      <th>rank</th>\n",
       "      <th>country_full</th>\n",
       "      <th>country_abrv</th>\n",
       "      <th>total_points</th>\n",
       "      <th>previous_points</th>\n",
       "      <th>rank_change</th>\n",
       "      <th>cur_year_avg</th>\n",
       "      <th>cur_year_avg_weighted</th>\n",
       "      <th>last_year_avg</th>\n",
       "      <th>last_year_avg_weighted</th>\n",
       "      <th>two_year_ago_avg</th>\n",
       "      <th>two_year_ago_weighted</th>\n",
       "      <th>three_year_ago_avg</th>\n",
       "      <th>three_year_ago_weighted</th>\n",
       "      <th>confederation</th>\n",
       "      <th>rank_date</th>\n",
       "      <th>year_month</th>\n",
       "    </tr>\n",
       "  </thead>\n",
       "  <tbody>\n",
       "    <tr>\n",
       "      <th>56745</th>\n",
       "      <td>8</td>\n",
       "      <td>Switzerland</td>\n",
       "      <td>SUI</td>\n",
       "      <td>1190.44</td>\n",
       "      <td>1190</td>\n",
       "      <td>0</td>\n",
       "      <td>637.56</td>\n",
       "      <td>637.56</td>\n",
       "      <td>602.17</td>\n",
       "      <td>301.08</td>\n",
       "      <td>490.21</td>\n",
       "      <td>147.06</td>\n",
       "      <td>523.66</td>\n",
       "      <td>104.73</td>\n",
       "      <td>UEFA</td>\n",
       "      <td>2018-02-15</td>\n",
       "      <td>2018-02</td>\n",
       "    </tr>\n",
       "    <tr>\n",
       "      <th>56956</th>\n",
       "      <td>8</td>\n",
       "      <td>Switzerland</td>\n",
       "      <td>SUI</td>\n",
       "      <td>1196.61</td>\n",
       "      <td>1190</td>\n",
       "      <td>0</td>\n",
       "      <td>637.56</td>\n",
       "      <td>637.56</td>\n",
       "      <td>602.17</td>\n",
       "      <td>301.08</td>\n",
       "      <td>490.21</td>\n",
       "      <td>147.06</td>\n",
       "      <td>554.54</td>\n",
       "      <td>110.91</td>\n",
       "      <td>UEFA</td>\n",
       "      <td>2018-03-15</td>\n",
       "      <td>2018-03</td>\n",
       "    </tr>\n",
       "    <tr>\n",
       "      <th>57165</th>\n",
       "      <td>6</td>\n",
       "      <td>Switzerland</td>\n",
       "      <td>SUI</td>\n",
       "      <td>1179.21</td>\n",
       "      <td>1197</td>\n",
       "      <td>2</td>\n",
       "      <td>594.33</td>\n",
       "      <td>594.33</td>\n",
       "      <td>716.99</td>\n",
       "      <td>358.49</td>\n",
       "      <td>390.85</td>\n",
       "      <td>117.26</td>\n",
       "      <td>545.66</td>\n",
       "      <td>109.13</td>\n",
       "      <td>UEFA</td>\n",
       "      <td>2018-04-12</td>\n",
       "      <td>2018-04</td>\n",
       "    </tr>\n",
       "    <tr>\n",
       "      <th>57376</th>\n",
       "      <td>6</td>\n",
       "      <td>Switzerland</td>\n",
       "      <td>SUI</td>\n",
       "      <td>1179.21</td>\n",
       "      <td>1179</td>\n",
       "      <td>0</td>\n",
       "      <td>594.33</td>\n",
       "      <td>594.33</td>\n",
       "      <td>716.99</td>\n",
       "      <td>358.49</td>\n",
       "      <td>390.85</td>\n",
       "      <td>117.26</td>\n",
       "      <td>545.66</td>\n",
       "      <td>109.13</td>\n",
       "      <td>UEFA</td>\n",
       "      <td>2018-05-17</td>\n",
       "      <td>2018-05</td>\n",
       "    </tr>\n",
       "    <tr>\n",
       "      <th>57587</th>\n",
       "      <td>6</td>\n",
       "      <td>Switzerland</td>\n",
       "      <td>SUI</td>\n",
       "      <td>1198.72</td>\n",
       "      <td>1179</td>\n",
       "      <td>0</td>\n",
       "      <td>578.59</td>\n",
       "      <td>578.59</td>\n",
       "      <td>808.58</td>\n",
       "      <td>404.29</td>\n",
       "      <td>338.09</td>\n",
       "      <td>101.43</td>\n",
       "      <td>572.09</td>\n",
       "      <td>114.42</td>\n",
       "      <td>UEFA</td>\n",
       "      <td>2018-06-07</td>\n",
       "      <td>2018-06</td>\n",
       "    </tr>\n",
       "  </tbody>\n",
       "</table>\n",
       "</div>"
      ],
      "text/plain": [
       "       rank country_full country_abrv  total_points  previous_points  \\\n",
       "56745     8  Switzerland          SUI       1190.44             1190   \n",
       "56956     8  Switzerland          SUI       1196.61             1190   \n",
       "57165     6  Switzerland          SUI       1179.21             1197   \n",
       "57376     6  Switzerland          SUI       1179.21             1179   \n",
       "57587     6  Switzerland          SUI       1198.72             1179   \n",
       "\n",
       "       rank_change  cur_year_avg  cur_year_avg_weighted  last_year_avg  \\\n",
       "56745            0        637.56                 637.56         602.17   \n",
       "56956            0        637.56                 637.56         602.17   \n",
       "57165            2        594.33                 594.33         716.99   \n",
       "57376            0        594.33                 594.33         716.99   \n",
       "57587            0        578.59                 578.59         808.58   \n",
       "\n",
       "       last_year_avg_weighted  two_year_ago_avg  two_year_ago_weighted  \\\n",
       "56745                  301.08            490.21                 147.06   \n",
       "56956                  301.08            490.21                 147.06   \n",
       "57165                  358.49            390.85                 117.26   \n",
       "57376                  358.49            390.85                 117.26   \n",
       "57587                  404.29            338.09                 101.43   \n",
       "\n",
       "       three_year_ago_avg  three_year_ago_weighted confederation   rank_date  \\\n",
       "56745              523.66                   104.73          UEFA  2018-02-15   \n",
       "56956              554.54                   110.91          UEFA  2018-03-15   \n",
       "57165              545.66                   109.13          UEFA  2018-04-12   \n",
       "57376              545.66                   109.13          UEFA  2018-05-17   \n",
       "57587              572.09                   114.42          UEFA  2018-06-07   \n",
       "\n",
       "      year_month  \n",
       "56745    2018-02  \n",
       "56956    2018-03  \n",
       "57165    2018-04  \n",
       "57376    2018-05  \n",
       "57587    2018-06  "
      ]
     },
     "execution_count": 73,
     "metadata": {},
     "output_type": "execute_result"
    }
   ],
   "source": [
    "rankings[rankings.country_full == 'Switzerland'].tail()"
   ]
  },
  {
   "cell_type": "code",
   "execution_count": 74,
   "metadata": {
    "collapsed": true
   },
   "outputs": [],
   "source": [
    "# start from latest points as of 22 Jun\n",
    "\n",
    "# matches_2018['points'] = []"
   ]
  },
  {
   "cell_type": "code",
   "execution_count": 75,
   "metadata": {
    "collapsed": false,
    "scrolled": false
   },
   "outputs": [
    {
     "name": "stdout",
     "output_type": "stream",
     "text": [
      "___Group A:___\n",
      "Russia vs. Saudi Arabia: \n",
      "[[ 0.18269101  0.1786084   0.63870059]]\n",
      "Russia vs. Egypt: \n",
      "[[ 0.23196089  0.51102603  0.25701308]]\n",
      "Russia vs. Uruguay: \n",
      "[[ 0.6839496   0.22994288  0.08610752]]\n",
      "Saudi Arabia vs. Egypt: \n",
      "[[ 0.44665682  0.35462456  0.19871862]]\n",
      "Saudi Arabia vs. Uruguay: \n",
      "[[ 0.76927905  0.16298515  0.06773579]]\n",
      "Egypt vs. Uruguay: \n",
      "[[ 0.57088928  0.25937874  0.16973198]]\n",
      "___Group C:___\n",
      "France vs. Australia: \n",
      "[[ 0.15781242  0.17644324  0.66574434]]\n",
      "France vs. Peru: \n",
      "[[ 0.24884901  0.22742135  0.52372965]]\n",
      "France vs. Denmark: \n",
      "[[ 0.38464743  0.25196318  0.36338939]]\n",
      "Australia vs. Peru: \n",
      "[[ 0.39408278  0.37529387  0.23062335]]\n",
      "Australia vs. Denmark: \n",
      "[[ 0.44566831  0.33954389  0.2147878 ]]\n",
      "Peru vs. Denmark: \n",
      "[[ 0.33856005  0.31547164  0.34596831]]\n",
      "___Group B:___\n",
      "Portugal vs. Spain: \n",
      "[[ 0.18144506  0.14611699  0.67243795]]\n",
      "Portugal vs. Morocco: \n",
      "[[ 0.10699265  0.52976339  0.36324396]]\n",
      "Portugal vs. Iran: \n",
      "[[ 0.15193437  0.37270668  0.47535895]]\n",
      "Spain vs. Morocco: \n",
      "[[ 0.19236507  0.1885384   0.61909653]]\n",
      "Spain vs. Iran: \n",
      "[[ 0.14377129  0.27982952  0.57639919]]\n",
      "Morocco vs. Iran: \n",
      "[[ 0.19850472  0.28111434  0.52038094]]\n",
      "___Group E:___\n",
      "Brazil vs. Switzerland: \n",
      "[[ 0.26128575  0.23951066  0.49920359]]\n",
      "Brazil vs. Costa Rica: \n",
      "[[ 0.28761099  0.26348361  0.4489054 ]]\n",
      "Brazil vs. Serbia: \n",
      "[[ 0.09040994  0.23173606  0.677854  ]]\n",
      "Switzerland vs. Costa Rica: \n",
      "[[ 0.46741262  0.27698486  0.25560252]]\n",
      "Switzerland vs. Serbia: \n",
      "[[ 0.18110374  0.29471278  0.52418348]]\n",
      "Costa Rica vs. Serbia: \n",
      "[[ 0.07892289  0.22531703  0.69576009]]\n",
      "___Group D:___\n",
      "Argentina vs. Iceland: \n",
      "[[ 0.2452773   0.39045162  0.36427108]]\n",
      "Argentina vs. Croatia: \n",
      "[[ 0.24524666  0.26699049  0.48776285]]\n",
      "Argentina vs. Nigeria: \n",
      "[[ 0.08365113  0.27207439  0.64427448]]\n",
      "Iceland vs. Croatia: \n",
      "[[ 0.14712385  0.32728519  0.52559097]]\n",
      "Iceland vs. Nigeria: \n",
      "[[ 0.19359383  0.24275892  0.56364725]]\n",
      "Croatia vs. Nigeria: \n",
      "[[ 0.16528128  0.21635056  0.61836816]]\n",
      "___Group G:___\n",
      "Belgium vs. Panama: \n",
      "[[ 0.04963418  0.42866808  0.52169774]]\n",
      "Belgium vs. Tunisia: \n",
      "[[ 0.35285992  0.16762812  0.47951196]]\n",
      "Belgium vs. England: \n",
      "[[ 0.30906124  0.26126394  0.42967483]]\n",
      "Panama vs. Tunisia: \n",
      "[[ 0.45057568  0.31290749  0.23651683]]\n",
      "Panama vs. England: \n",
      "[[ 0.63975052  0.25061864  0.10963083]]\n",
      "Tunisia vs. England: \n",
      "[[ 0.26734434  0.37514158  0.35751408]]\n",
      "___Group F:___\n",
      "Germany vs. Mexico: \n",
      "[[ 0.16160247  0.42838638  0.41001115]]\n",
      "Germany vs. Sweden: \n",
      "[[ 0.16485817  0.42799226  0.40714957]]\n",
      "Germany vs. Korea Republic: \n",
      "[[ 0.05724513  0.34210434  0.60065053]]\n",
      "Mexico vs. Sweden: \n",
      "[[ 0.18063796  0.29603002  0.52333203]]\n",
      "Mexico vs. Korea Republic: \n",
      "[[ 0.14821056  0.18196008  0.66982936]]\n",
      "Sweden vs. Korea Republic: \n",
      "[[ 0.12079238  0.24018421  0.63902342]]\n",
      "___Group H:___\n",
      "Poland vs. Senegal: \n",
      "[[ 0.45778058  0.22974188  0.31247753]]\n",
      "Poland vs. Colombia: \n",
      "[[ 0.29837675  0.11699669  0.58462656]]\n",
      "Poland vs. Japan: \n",
      "[[ 0.09748312  0.25996681  0.64255007]]\n",
      "Senegal vs. Colombia: \n",
      "[[ 0.24780591  0.40039088  0.35180321]]\n",
      "Senegal vs. Japan: \n",
      "[[ 0.14163467  0.26124874  0.59711659]]\n",
      "Colombia vs. Japan: \n",
      "[[ 0.06703634  0.23239269  0.70057097]]\n"
     ]
    }
   ],
   "source": [
    "from itertools import combinations\n",
    "\n",
    "opponents = ['First match \\nagainst', 'Second match\\n against', 'Third match\\n against']\n",
    "\n",
    "matches_2018['points'] = 0\n",
    "matches_2018['total_prob'] = 0\n",
    "\n",
    "for group in set(matches_2018['Group']):\n",
    "    print('___Group {}:___'.format(group))\n",
    "    for home, away in combinations(matches_2018[matches_2018.Group == group].index, 2):\n",
    "        print(\"{} vs. {}: \".format(home, away))\n",
    "        feats = get_features(home, away)\n",
    "        pred_prob = best_model.predict_proba(feats.values.reshape(1, -1))\n",
    "#         result = rf_model.predict(feats.values.reshape(1, -1))\n",
    "        matches_2018.loc[home, 'total_prob'] += pred_prob[0, 2]\n",
    "        matches_2018.loc[away, 'total_prob'] += pred_prob[0, 0]\n",
    "        # calculate the expected score for each team\n",
    "        matches_2018.loc[home, 'points'] += (3 * pred_prob[0, 2] + 1 * pred_prob[0, 1])\n",
    "        matches_2018.loc[away, 'points'] += (3 * pred_prob[0, 0] + 1 * pred_prob[0, 1])\n",
    "        print(pred_prob)\n",
    "        \n",
    "#         if result == 1: # home win\n",
    "#             matches_2018.loc[home, 'points'] += 3\n",
    "#             print(\"  {} wins ({})\".format(home, pred_prob[0, 2]))\n",
    "#         elif result == 0: # draw\n",
    "#             matches_2018.loc[home, 'points'] += 1\n",
    "#             matches_2018.loc[away, 'points'] += 1\n",
    "#             print(\"  Draw ({})\".format(home, pred_prob[0, 1]))\n",
    "#         else: # away win \n",
    "#             matches_2018.loc[away, 'points'] += 3\n",
    "#             print(\"  {} wins ({})\".format(away, pred_prob[0, 0]))\n"
   ]
  },
  {
   "cell_type": "code",
   "execution_count": 76,
   "metadata": {
    "collapsed": true
   },
   "outputs": [],
   "source": [
    "next_round = matches_2018.groupby('Group').apply(lambda x: \n",
    "                                    x.sort_values(by=['points', 'total_prob'], ascending=False).iloc[:2, :])\n",
    "\n",
    "\n",
    "next_round = next_round.drop('Group', axis=1).reset_index()[['Group', 'Team']]"
   ]
  },
  {
   "cell_type": "code",
   "execution_count": 77,
   "metadata": {
    "collapsed": true
   },
   "outputs": [],
   "source": [
    "pairing = [0,3,4,7,8,11,12,15,1,2,5,6,9,10,13,14]\n",
    "\n",
    "next_round = next_round.loc[pairing]\n",
    "next_round.set_index('Team', inplace=True)"
   ]
  },
  {
   "cell_type": "code",
   "execution_count": 78,
   "metadata": {
    "collapsed": false
   },
   "outputs": [
    {
     "name": "stdout",
     "output_type": "stream",
     "text": [
      "___Starting of the round_of_16___\n",
      "Uruguay vs. Spain: \n",
      "  Draw (Uruguay)\n",
      "France vs. Iceland: \n",
      "  France wins (0.669893799304)\n",
      "Brazil vs. Mexico: \n",
      "  Mexico wins (0.521008154384)\n",
      "Belgium vs. Senegal: \n",
      "  Belgium wins (0.519185208141)\n",
      "Russia vs. Portugal: \n",
      "  Portugal wins (0.751185645771)\n",
      "Denmark vs. Argentina: \n",
      "  Argentina wins (0.46263252079)\n",
      "Costa Rica vs. Germany: \n",
      "  Germany wins (0.76369786469)\n",
      "England vs. Poland: \n",
      "  Poland wins (0.380727550755)\n",
      "\n",
      "\n",
      "___Starting of the quarterfinal___\n",
      "Uruguay vs. France: \n",
      "  France wins (0.374918416244)\n",
      "Mexico vs. Belgium: \n",
      "  Belgium wins (0.476121036484)\n",
      "Portugal vs. Argentina: \n",
      "  Portugal wins (0.451408619403)\n",
      "Germany vs. Poland: \n",
      "  Germany wins (0.522529093798)\n",
      "\n",
      "\n",
      "___Starting of the semifinal___\n",
      "France vs. Belgium: \n",
      "  Draw (France)\n",
      "Portugal vs. Germany: \n",
      "  Germany wins (0.462918249886)\n",
      "\n",
      "\n",
      "___Starting of the final___\n",
      "France vs. Germany: \n",
      "  Germany wins (0.529659975492)\n",
      "\n",
      "\n"
     ]
    }
   ],
   "source": [
    "finals = ['round_of_16', 'quarterfinal', 'semifinal', 'final']\n",
    "\n",
    "for f in finals:\n",
    "    print(\"___Starting of the {}___\".format(f))\n",
    "    iterations = int(len(next_round) / 2)\n",
    "    winners = []\n",
    "\n",
    "    for i in range(iterations):\n",
    "        home = next_round.index[i*2]\n",
    "        away = next_round.index[i*2+1]\n",
    "        print(\"{} vs. {}: \".format(home, away))\n",
    "        feats = get_features(home, away)\n",
    "        pred_prob = best_model.predict_proba(feats.values.reshape(1, -1))\n",
    "        result = best_model.predict(feats.values.reshape(1, -1))\n",
    "        \n",
    "        if result == 1: # home win\n",
    "            print(\"  {} wins ({})\".format(home, pred_prob[0, 2]))\n",
    "            winners.append(home)\n",
    "        elif result == 0: # draw\n",
    "            print(\"  Draw ({})\".format(home, pred_prob[0, 1]))\n",
    "            if pred_prob[0, 2] > pred_prob[0, 0]:\n",
    "                winners.append(home)\n",
    "            else:\n",
    "                winners.append(away)\n",
    "        else: # away win \n",
    "            print(\"  {} wins ({})\".format(away, pred_prob[0, 0]))\n",
    "            winners.append(away)\n",
    "                \n",
    "    next_round = next_round.loc[winners]\n",
    "    print(\"\\n\")"
   ]
  },
  {
   "cell_type": "markdown",
   "metadata": {},
   "source": [
    "## Further improvements:\n",
    "- How to deal with draw? Take the model prediction mean/sd and run simulations?\n",
    "\n",
    "- Other useful data/features:\n",
    "    - weather\n",
    "    - time of match\n",
    "    - player data\n",
    "    - twitter sentiment"
   ]
  }
 ],
 "metadata": {
  "kernelspec": {
   "display_name": "Python 2",
   "language": "python",
   "name": "python2"
  },
  "language_info": {
   "codemirror_mode": {
    "name": "ipython",
    "version": 2
   },
   "file_extension": ".py",
   "mimetype": "text/x-python",
   "name": "python",
   "nbconvert_exporter": "python",
   "pygments_lexer": "ipython2",
   "version": "2.7.15"
  },
  "toc": {
   "nav_menu": {},
   "number_sections": true,
   "sideBar": true,
   "skip_h1_title": false,
   "title_cell": "Table of Contents",
   "title_sidebar": "Contents",
   "toc_cell": false,
   "toc_position": {},
   "toc_section_display": true,
   "toc_window_display": false
  }
 },
 "nbformat": 4,
 "nbformat_minor": 2
}
